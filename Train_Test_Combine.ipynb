{
 "cells": [
  {
   "cell_type": "code",
   "execution_count": 1,
   "metadata": {
    "collapsed": true
   },
   "outputs": [],
   "source": [
    "%matplotlib inline\n",
    "import pandas as pd #pandas is a useful array/matrix/spreadsheet maipulator. But it has some unique language\n",
    "import numpy as np #math stuff!\n",
    "import matplotlib.pyplot as plt #plotting package.\n",
    "import seaborn as sns\n",
    "from mpl_toolkits.basemap import Basemap\n",
    "from sklearn.ensemble import RandomForestClassifier\n",
    "from scipy import sparse\n",
    "import scipy"
   ]
  },
  {
   "cell_type": "code",
   "execution_count": null,
   "metadata": {
    "collapsed": true
   },
   "outputs": [],
   "source": [
    "#This Notebook takes the raw train and test sets and converts them into numbers.\n",
    "#Along the way, it bins the longitude and latitude values into a grid,\n",
    "#separates the address section into 2 streets and numericalizes the most common,\n",
    "#separates the Dates into date and time values, and\n",
    "#chucks data in the training set that's not in the test set\n",
    "\n",
    "#To do make sure everything I do to the test set I do to the training set,\n",
    "#I first combine the 2 sets together so operations act on both at the same time."
   ]
  },
  {
   "cell_type": "code",
   "execution_count": 2,
   "metadata": {
    "collapsed": true
   },
   "outputs": [],
   "source": [
    "#We import both the training and test data\n",
    "Train=pd.read_csv('train.csv', header=0)\n",
    "Test=pd.read_csv('test.csv', header=0)"
   ]
  },
  {
   "cell_type": "code",
   "execution_count": 3,
   "metadata": {
    "collapsed": false
   },
   "outputs": [
    {
     "data": {
      "text/html": [
       "<div>\n",
       "<table border=\"1\" class=\"dataframe\">\n",
       "  <thead>\n",
       "    <tr style=\"text-align: right;\">\n",
       "      <th></th>\n",
       "      <th>Dates</th>\n",
       "      <th>Category</th>\n",
       "      <th>Descript</th>\n",
       "      <th>DayOfWeek</th>\n",
       "      <th>PdDistrict</th>\n",
       "      <th>Resolution</th>\n",
       "      <th>Address</th>\n",
       "      <th>X</th>\n",
       "      <th>Y</th>\n",
       "    </tr>\n",
       "  </thead>\n",
       "  <tbody>\n",
       "    <tr>\n",
       "      <th>0</th>\n",
       "      <td>2015-05-13 23:53:00</td>\n",
       "      <td>WARRANTS</td>\n",
       "      <td>WARRANT ARREST</td>\n",
       "      <td>Wednesday</td>\n",
       "      <td>NORTHERN</td>\n",
       "      <td>ARREST, BOOKED</td>\n",
       "      <td>OAK ST / LAGUNA ST</td>\n",
       "      <td>-122.425892</td>\n",
       "      <td>37.774599</td>\n",
       "    </tr>\n",
       "    <tr>\n",
       "      <th>1</th>\n",
       "      <td>2015-05-13 23:53:00</td>\n",
       "      <td>OTHER OFFENSES</td>\n",
       "      <td>TRAFFIC VIOLATION ARREST</td>\n",
       "      <td>Wednesday</td>\n",
       "      <td>NORTHERN</td>\n",
       "      <td>ARREST, BOOKED</td>\n",
       "      <td>OAK ST / LAGUNA ST</td>\n",
       "      <td>-122.425892</td>\n",
       "      <td>37.774599</td>\n",
       "    </tr>\n",
       "    <tr>\n",
       "      <th>2</th>\n",
       "      <td>2015-05-13 23:33:00</td>\n",
       "      <td>OTHER OFFENSES</td>\n",
       "      <td>TRAFFIC VIOLATION ARREST</td>\n",
       "      <td>Wednesday</td>\n",
       "      <td>NORTHERN</td>\n",
       "      <td>ARREST, BOOKED</td>\n",
       "      <td>VANNESS AV / GREENWICH ST</td>\n",
       "      <td>-122.424363</td>\n",
       "      <td>37.800414</td>\n",
       "    </tr>\n",
       "    <tr>\n",
       "      <th>3</th>\n",
       "      <td>2015-05-13 23:30:00</td>\n",
       "      <td>LARCENY/THEFT</td>\n",
       "      <td>GRAND THEFT FROM LOCKED AUTO</td>\n",
       "      <td>Wednesday</td>\n",
       "      <td>NORTHERN</td>\n",
       "      <td>NONE</td>\n",
       "      <td>1500 Block of LOMBARD ST</td>\n",
       "      <td>-122.426995</td>\n",
       "      <td>37.800873</td>\n",
       "    </tr>\n",
       "    <tr>\n",
       "      <th>4</th>\n",
       "      <td>2015-05-13 23:30:00</td>\n",
       "      <td>LARCENY/THEFT</td>\n",
       "      <td>GRAND THEFT FROM LOCKED AUTO</td>\n",
       "      <td>Wednesday</td>\n",
       "      <td>PARK</td>\n",
       "      <td>NONE</td>\n",
       "      <td>100 Block of BRODERICK ST</td>\n",
       "      <td>-122.438738</td>\n",
       "      <td>37.771541</td>\n",
       "    </tr>\n",
       "  </tbody>\n",
       "</table>\n",
       "</div>"
      ],
      "text/plain": [
       "                 Dates        Category                      Descript  \\\n",
       "0  2015-05-13 23:53:00        WARRANTS                WARRANT ARREST   \n",
       "1  2015-05-13 23:53:00  OTHER OFFENSES      TRAFFIC VIOLATION ARREST   \n",
       "2  2015-05-13 23:33:00  OTHER OFFENSES      TRAFFIC VIOLATION ARREST   \n",
       "3  2015-05-13 23:30:00   LARCENY/THEFT  GRAND THEFT FROM LOCKED AUTO   \n",
       "4  2015-05-13 23:30:00   LARCENY/THEFT  GRAND THEFT FROM LOCKED AUTO   \n",
       "\n",
       "   DayOfWeek PdDistrict      Resolution                    Address  \\\n",
       "0  Wednesday   NORTHERN  ARREST, BOOKED         OAK ST / LAGUNA ST   \n",
       "1  Wednesday   NORTHERN  ARREST, BOOKED         OAK ST / LAGUNA ST   \n",
       "2  Wednesday   NORTHERN  ARREST, BOOKED  VANNESS AV / GREENWICH ST   \n",
       "3  Wednesday   NORTHERN            NONE   1500 Block of LOMBARD ST   \n",
       "4  Wednesday       PARK            NONE  100 Block of BRODERICK ST   \n",
       "\n",
       "            X          Y  \n",
       "0 -122.425892  37.774599  \n",
       "1 -122.425892  37.774599  \n",
       "2 -122.424363  37.800414  \n",
       "3 -122.426995  37.800873  \n",
       "4 -122.438738  37.771541  "
      ]
     },
     "execution_count": 3,
     "metadata": {},
     "output_type": "execute_result"
    }
   ],
   "source": [
    "Train.head()"
   ]
  },
  {
   "cell_type": "code",
   "execution_count": 3,
   "metadata": {
    "collapsed": false
   },
   "outputs": [],
   "source": [
    "#Now, I drop some features that are in the training data but aren't in the test data\n",
    "Train=Train.drop('Descript', axis=1)\n",
    "Train=Train.drop('Resolution',axis=1)\n",
    "#I also insert a column that is only in the test data:\n",
    "Train.insert(0,'Id',-1,allow_duplicates=False)\n",
    "Train_Length=len(Train) #This may be useful for breaking the Train and Test data apart."
   ]
  },
  {
   "cell_type": "code",
   "execution_count": 77,
   "metadata": {
    "collapsed": false
   },
   "outputs": [
    {
     "data": {
      "text/html": [
       "<div>\n",
       "<table border=\"1\" class=\"dataframe\">\n",
       "  <thead>\n",
       "    <tr style=\"text-align: right;\">\n",
       "      <th></th>\n",
       "      <th>Id</th>\n",
       "      <th>Dates</th>\n",
       "      <th>Category</th>\n",
       "      <th>DayOfWeek</th>\n",
       "      <th>PdDistrict</th>\n",
       "      <th>Address</th>\n",
       "      <th>X</th>\n",
       "      <th>Y</th>\n",
       "    </tr>\n",
       "  </thead>\n",
       "  <tbody>\n",
       "    <tr>\n",
       "      <th>0</th>\n",
       "      <td>-1</td>\n",
       "      <td>2015-05-13 23:53:00</td>\n",
       "      <td>WARRANTS</td>\n",
       "      <td>Wednesday</td>\n",
       "      <td>NORTHERN</td>\n",
       "      <td>OAK ST / LAGUNA ST</td>\n",
       "      <td>-122.425892</td>\n",
       "      <td>37.774599</td>\n",
       "    </tr>\n",
       "    <tr>\n",
       "      <th>1</th>\n",
       "      <td>-1</td>\n",
       "      <td>2015-05-13 23:53:00</td>\n",
       "      <td>OTHER OFFENSES</td>\n",
       "      <td>Wednesday</td>\n",
       "      <td>NORTHERN</td>\n",
       "      <td>OAK ST / LAGUNA ST</td>\n",
       "      <td>-122.425892</td>\n",
       "      <td>37.774599</td>\n",
       "    </tr>\n",
       "  </tbody>\n",
       "</table>\n",
       "</div>"
      ],
      "text/plain": [
       "   Id                Dates        Category  DayOfWeek PdDistrict  \\\n",
       "0  -1  2015-05-13 23:53:00        WARRANTS  Wednesday   NORTHERN   \n",
       "1  -1  2015-05-13 23:53:00  OTHER OFFENSES  Wednesday   NORTHERN   \n",
       "\n",
       "              Address           X          Y  \n",
       "0  OAK ST / LAGUNA ST -122.425892  37.774599  \n",
       "1  OAK ST / LAGUNA ST -122.425892  37.774599  "
      ]
     },
     "execution_count": 77,
     "metadata": {},
     "output_type": "execute_result"
    }
   ],
   "source": [
    "Train.head(2)"
   ]
  },
  {
   "cell_type": "code",
   "execution_count": 4,
   "metadata": {
    "collapsed": true
   },
   "outputs": [],
   "source": [
    "#Now, I add a 'result' column into the Test data. I will delete before finishing,\n",
    "#but it will help to have a dummy variable in there right now.\n",
    "Test.insert(2,'Category','Fake',allow_duplicates=False)\n",
    "Test_Length=len(Test)"
   ]
  },
  {
   "cell_type": "code",
   "execution_count": 79,
   "metadata": {
    "collapsed": false
   },
   "outputs": [
    {
     "data": {
      "text/html": [
       "<div>\n",
       "<table border=\"1\" class=\"dataframe\">\n",
       "  <thead>\n",
       "    <tr style=\"text-align: right;\">\n",
       "      <th></th>\n",
       "      <th>Id</th>\n",
       "      <th>Dates</th>\n",
       "      <th>Category</th>\n",
       "      <th>DayOfWeek</th>\n",
       "      <th>PdDistrict</th>\n",
       "      <th>Address</th>\n",
       "      <th>X</th>\n",
       "      <th>Y</th>\n",
       "    </tr>\n",
       "  </thead>\n",
       "  <tbody>\n",
       "    <tr>\n",
       "      <th>0</th>\n",
       "      <td>0</td>\n",
       "      <td>2015-05-10 23:59:00</td>\n",
       "      <td>Fake</td>\n",
       "      <td>Sunday</td>\n",
       "      <td>BAYVIEW</td>\n",
       "      <td>2000 Block of THOMAS AV</td>\n",
       "      <td>-122.399588</td>\n",
       "      <td>37.735051</td>\n",
       "    </tr>\n",
       "    <tr>\n",
       "      <th>1</th>\n",
       "      <td>1</td>\n",
       "      <td>2015-05-10 23:51:00</td>\n",
       "      <td>Fake</td>\n",
       "      <td>Sunday</td>\n",
       "      <td>BAYVIEW</td>\n",
       "      <td>3RD ST / REVERE AV</td>\n",
       "      <td>-122.391523</td>\n",
       "      <td>37.732432</td>\n",
       "    </tr>\n",
       "  </tbody>\n",
       "</table>\n",
       "</div>"
      ],
      "text/plain": [
       "   Id                Dates Category DayOfWeek PdDistrict  \\\n",
       "0   0  2015-05-10 23:59:00     Fake    Sunday    BAYVIEW   \n",
       "1   1  2015-05-10 23:51:00     Fake    Sunday    BAYVIEW   \n",
       "\n",
       "                   Address           X          Y  \n",
       "0  2000 Block of THOMAS AV -122.399588  37.735051  \n",
       "1       3RD ST / REVERE AV -122.391523  37.732432  "
      ]
     },
     "execution_count": 79,
     "metadata": {},
     "output_type": "execute_result"
    }
   ],
   "source": [
    "Test.head(2)"
   ]
  },
  {
   "cell_type": "code",
   "execution_count": 5,
   "metadata": {
    "collapsed": false
   },
   "outputs": [],
   "source": [
    "#At this point, I can combine the Train and Test data\n",
    "#Now any new categories being made will be made on both\n",
    "Full_Data=pd.concat([Train,Test])\n",
    "#Let's reset the index to make operations easier.\n",
    "Full_Data=Full_Data.reset_index(drop=True)"
   ]
  },
  {
   "cell_type": "code",
   "execution_count": 81,
   "metadata": {
    "collapsed": false
   },
   "outputs": [
    {
     "data": {
      "text/html": [
       "<div>\n",
       "<table border=\"1\" class=\"dataframe\">\n",
       "  <thead>\n",
       "    <tr style=\"text-align: right;\">\n",
       "      <th></th>\n",
       "      <th>Id</th>\n",
       "      <th>Dates</th>\n",
       "      <th>Category</th>\n",
       "      <th>DayOfWeek</th>\n",
       "      <th>PdDistrict</th>\n",
       "      <th>Address</th>\n",
       "      <th>X</th>\n",
       "      <th>Y</th>\n",
       "    </tr>\n",
       "  </thead>\n",
       "  <tbody>\n",
       "    <tr>\n",
       "      <th>0</th>\n",
       "      <td>-1</td>\n",
       "      <td>2015-05-13 23:53:00</td>\n",
       "      <td>WARRANTS</td>\n",
       "      <td>Wednesday</td>\n",
       "      <td>NORTHERN</td>\n",
       "      <td>OAK ST / LAGUNA ST</td>\n",
       "      <td>-122.425892</td>\n",
       "      <td>37.774599</td>\n",
       "    </tr>\n",
       "    <tr>\n",
       "      <th>1</th>\n",
       "      <td>-1</td>\n",
       "      <td>2015-05-13 23:53:00</td>\n",
       "      <td>OTHER OFFENSES</td>\n",
       "      <td>Wednesday</td>\n",
       "      <td>NORTHERN</td>\n",
       "      <td>OAK ST / LAGUNA ST</td>\n",
       "      <td>-122.425892</td>\n",
       "      <td>37.774599</td>\n",
       "    </tr>\n",
       "  </tbody>\n",
       "</table>\n",
       "</div>"
      ],
      "text/plain": [
       "   Id                Dates        Category  DayOfWeek PdDistrict  \\\n",
       "0  -1  2015-05-13 23:53:00        WARRANTS  Wednesday   NORTHERN   \n",
       "1  -1  2015-05-13 23:53:00  OTHER OFFENSES  Wednesday   NORTHERN   \n",
       "\n",
       "              Address           X          Y  \n",
       "0  OAK ST / LAGUNA ST -122.425892  37.774599  \n",
       "1  OAK ST / LAGUNA ST -122.425892  37.774599  "
      ]
     },
     "execution_count": 81,
     "metadata": {},
     "output_type": "execute_result"
    }
   ],
   "source": [
    "Full_Data.head(2)"
   ]
  },
  {
   "cell_type": "code",
   "execution_count": 82,
   "metadata": {
    "collapsed": false
   },
   "outputs": [
    {
     "data": {
      "text/html": [
       "<div>\n",
       "<table border=\"1\" class=\"dataframe\">\n",
       "  <thead>\n",
       "    <tr style=\"text-align: right;\">\n",
       "      <th></th>\n",
       "      <th>Id</th>\n",
       "      <th>Dates</th>\n",
       "      <th>Category</th>\n",
       "      <th>DayOfWeek</th>\n",
       "      <th>PdDistrict</th>\n",
       "      <th>Address</th>\n",
       "      <th>X</th>\n",
       "      <th>Y</th>\n",
       "    </tr>\n",
       "  </thead>\n",
       "  <tbody>\n",
       "    <tr>\n",
       "      <th>1762309</th>\n",
       "      <td>884260</td>\n",
       "      <td>2003-01-01 00:01:00</td>\n",
       "      <td>Fake</td>\n",
       "      <td>Wednesday</td>\n",
       "      <td>BAYVIEW</td>\n",
       "      <td>1500 Block of HUDSON AV</td>\n",
       "      <td>-122.387394</td>\n",
       "      <td>37.739479</td>\n",
       "    </tr>\n",
       "    <tr>\n",
       "      <th>1762310</th>\n",
       "      <td>884261</td>\n",
       "      <td>2003-01-01 00:01:00</td>\n",
       "      <td>Fake</td>\n",
       "      <td>Wednesday</td>\n",
       "      <td>TARAVAL</td>\n",
       "      <td>1500 Block of SLOAT BL</td>\n",
       "      <td>-122.489714</td>\n",
       "      <td>37.733950</td>\n",
       "    </tr>\n",
       "  </tbody>\n",
       "</table>\n",
       "</div>"
      ],
      "text/plain": [
       "             Id                Dates Category  DayOfWeek PdDistrict  \\\n",
       "1762309  884260  2003-01-01 00:01:00     Fake  Wednesday    BAYVIEW   \n",
       "1762310  884261  2003-01-01 00:01:00     Fake  Wednesday    TARAVAL   \n",
       "\n",
       "                         Address           X          Y  \n",
       "1762309  1500 Block of HUDSON AV -122.387394  37.739479  \n",
       "1762310   1500 Block of SLOAT BL -122.489714  37.733950  "
      ]
     },
     "execution_count": 82,
     "metadata": {},
     "output_type": "execute_result"
    }
   ],
   "source": [
    "Full_Data.tail(2)"
   ]
  },
  {
   "cell_type": "code",
   "execution_count": 6,
   "metadata": {
    "collapsed": false
   },
   "outputs": [],
   "source": [
    "#Now, we can start manipulating the data.\n",
    "#First, binning X and Y:\n",
    "#Using measurements from png map of San Fran, I make equal sized bins for lon and lat:\n",
    "lon_lat_box = (-122.5226, -122.3496, 37.7007, 37.8152);\n",
    "binsLon = np.linspace(lon_lat_box[0], lon_lat_box[1], 10);\n",
    "binsLat = np.linspace(lon_lat_box[2], lon_lat_box[3], 10);\n",
    "\n",
    "#I'm sure there's a quicker way to make these, but this works.\n",
    "Lon_boxes=[];\n",
    "for x in range(1,len(binsLon)):\n",
    "    Lon_boxes.append(x)\n",
    "Lat_boxes=[];\n",
    "for x in range(1,len(binsLat)):\n",
    "    Lat_boxes.append(x)\n",
    "#First, I divide up all entries based on longitude values:\n",
    "Full_Data['X_binned']=pd.cut(Full_Data['X'], binsLon, labels=Lon_boxes)\n",
    "Full_Data['Y_binned']=0 #So values outside my box described by binsLat and binsLon will be mapped here\n",
    "#Now for each longitude bin, I break up into lat bins:\n",
    "for x in range(1,len(Lon_boxes)):\n",
    "    a1=pd.cut(Full_Data[Full_Data['X_binned']==x]['Y'], binsLat, labels=Lat_boxes)\n",
    "    Full_Data.loc[a1.index.values,'Y_binned']=a1.values"
   ]
  },
  {
   "cell_type": "code",
   "execution_count": 7,
   "metadata": {
    "collapsed": true
   },
   "outputs": [],
   "source": [
    "#There are some values which didn't get placed in the bins, so let's set those as the most common bin values:\n",
    "Full_Data['Y_binned'].fillna(6,inplace = True);\n",
    "Full_Data['X_binned'].fillna(6,inplace = True);"
   ]
  },
  {
   "cell_type": "code",
   "execution_count": 85,
   "metadata": {
    "collapsed": false
   },
   "outputs": [
    {
     "data": {
      "text/html": [
       "<div>\n",
       "<table border=\"1\" class=\"dataframe\">\n",
       "  <thead>\n",
       "    <tr style=\"text-align: right;\">\n",
       "      <th></th>\n",
       "      <th>Id</th>\n",
       "      <th>Dates</th>\n",
       "      <th>Category</th>\n",
       "      <th>DayOfWeek</th>\n",
       "      <th>PdDistrict</th>\n",
       "      <th>Address</th>\n",
       "      <th>X</th>\n",
       "      <th>Y</th>\n",
       "      <th>X_binned</th>\n",
       "      <th>Y_binned</th>\n",
       "    </tr>\n",
       "  </thead>\n",
       "  <tbody>\n",
       "    <tr>\n",
       "      <th>0</th>\n",
       "      <td>-1</td>\n",
       "      <td>2015-05-13 23:53:00</td>\n",
       "      <td>WARRANTS</td>\n",
       "      <td>Wednesday</td>\n",
       "      <td>NORTHERN</td>\n",
       "      <td>OAK ST / LAGUNA ST</td>\n",
       "      <td>-122.425892</td>\n",
       "      <td>37.774599</td>\n",
       "      <td>6</td>\n",
       "      <td>6.0</td>\n",
       "    </tr>\n",
       "  </tbody>\n",
       "</table>\n",
       "</div>"
      ],
      "text/plain": [
       "   Id                Dates  Category  DayOfWeek PdDistrict  \\\n",
       "0  -1  2015-05-13 23:53:00  WARRANTS  Wednesday   NORTHERN   \n",
       "\n",
       "              Address           X          Y X_binned  Y_binned  \n",
       "0  OAK ST / LAGUNA ST -122.425892  37.774599        6       6.0  "
      ]
     },
     "execution_count": 85,
     "metadata": {},
     "output_type": "execute_result"
    }
   ],
   "source": [
    "Full_Data.head(1)"
   ]
  },
  {
   "cell_type": "code",
   "execution_count": 8,
   "metadata": {
    "collapsed": true
   },
   "outputs": [],
   "source": [
    "#Looking at addresses, they are either intersections or the block of a road.\n",
    "#I choose to break intersections into each street and seperate blocks and their road.\n",
    "#First, replacing all the 'of' with '/' (e.g. 600 block of Market ST-->600 block / Market ST)\n",
    "Full_Data['Address1']=Full_Data['Address'].str.replace('of','/')\n",
    "#Now make 2 new columns using split on the ' / ':\n",
    "#(Spaces added above to remove empty spaces from new entries)\n",
    "Full_Data[['Address2','Address3']]=Full_Data['Address1'].str.split(' / ',expand=True)"
   ]
  },
  {
   "cell_type": "code",
   "execution_count": 9,
   "metadata": {
    "collapsed": true
   },
   "outputs": [],
   "source": [
    "#Doing the same on the dates:\n",
    "Full_Data[['Date','Time']]=Full_Data['Dates'].str.split(' ', expand=True)\n",
    "Full_Data[['Year','Month','Day']]=Full_Data['Date'].str.split('-', expand=True)\n",
    "Full_Data[['Hour','Minute','Second']]=Full_Data['Time'].str.split(':',expand=True)"
   ]
  },
  {
   "cell_type": "code",
   "execution_count": 10,
   "metadata": {
    "collapsed": true
   },
   "outputs": [],
   "source": [
    "#These are technically still strings, which won't be good for machine learning.\n",
    "#Converting to numbers:\n",
    "Full_Data['Year']=pd.to_numeric(Full_Data['Year']);\n",
    "Full_Data['Month']=pd.to_numeric(Full_Data['Month']);\n",
    "Full_Data['Day']=pd.to_numeric(Full_Data['Day']);\n",
    "Full_Data['Hour']=pd.to_numeric(Full_Data['Hour']);\n",
    "Full_Data['Minute']=pd.to_numeric(Full_Data['Minute']);"
   ]
  },
  {
   "cell_type": "code",
   "execution_count": 90,
   "metadata": {
    "collapsed": false
   },
   "outputs": [
    {
     "data": {
      "text/html": [
       "<div>\n",
       "<table border=\"1\" class=\"dataframe\">\n",
       "  <thead>\n",
       "    <tr style=\"text-align: right;\">\n",
       "      <th></th>\n",
       "      <th>Id</th>\n",
       "      <th>Dates</th>\n",
       "      <th>Category</th>\n",
       "      <th>DayOfWeek</th>\n",
       "      <th>PdDistrict</th>\n",
       "      <th>Address</th>\n",
       "      <th>X</th>\n",
       "      <th>Y</th>\n",
       "      <th>X_binned</th>\n",
       "      <th>Y_binned</th>\n",
       "      <th>...</th>\n",
       "      <th>Address2</th>\n",
       "      <th>Address3</th>\n",
       "      <th>Date</th>\n",
       "      <th>Time</th>\n",
       "      <th>Year</th>\n",
       "      <th>Month</th>\n",
       "      <th>Day</th>\n",
       "      <th>Hour</th>\n",
       "      <th>Minute</th>\n",
       "      <th>Second</th>\n",
       "    </tr>\n",
       "  </thead>\n",
       "  <tbody>\n",
       "    <tr>\n",
       "      <th>0</th>\n",
       "      <td>-1</td>\n",
       "      <td>2015-05-13 23:53:00</td>\n",
       "      <td>WARRANTS</td>\n",
       "      <td>Wednesday</td>\n",
       "      <td>NORTHERN</td>\n",
       "      <td>OAK ST / LAGUNA ST</td>\n",
       "      <td>-122.425892</td>\n",
       "      <td>37.774599</td>\n",
       "      <td>6</td>\n",
       "      <td>6.0</td>\n",
       "      <td>...</td>\n",
       "      <td>OAK ST</td>\n",
       "      <td>LAGUNA ST</td>\n",
       "      <td>2015-05-13</td>\n",
       "      <td>23:53:00</td>\n",
       "      <td>2015</td>\n",
       "      <td>5</td>\n",
       "      <td>13</td>\n",
       "      <td>23</td>\n",
       "      <td>53</td>\n",
       "      <td>00</td>\n",
       "    </tr>\n",
       "  </tbody>\n",
       "</table>\n",
       "<p>1 rows × 21 columns</p>\n",
       "</div>"
      ],
      "text/plain": [
       "   Id                Dates  Category  DayOfWeek PdDistrict  \\\n",
       "0  -1  2015-05-13 23:53:00  WARRANTS  Wednesday   NORTHERN   \n",
       "\n",
       "              Address           X          Y X_binned  Y_binned   ...    \\\n",
       "0  OAK ST / LAGUNA ST -122.425892  37.774599        6       6.0   ...     \n",
       "\n",
       "  Address2   Address3        Date      Time  Year  Month  Day  Hour  Minute  \\\n",
       "0   OAK ST  LAGUNA ST  2015-05-13  23:53:00  2015      5   13    23      53   \n",
       "\n",
       "   Second  \n",
       "0      00  \n",
       "\n",
       "[1 rows x 21 columns]"
      ]
     },
     "execution_count": 90,
     "metadata": {},
     "output_type": "execute_result"
    }
   ],
   "source": [
    "Full_Data.head(1)"
   ]
  },
  {
   "cell_type": "code",
   "execution_count": 12,
   "metadata": {
    "collapsed": true
   },
   "outputs": [],
   "source": [
    "#We Have far too many street names as well, and we need to make them into numbers:\n",
    "a1=pd.value_counts(Full_Data['Address2'])[0:21] #Picking only the most common street names.\n",
    "#Here, I've set cutoff to be 10% of most common name.\n",
    "a2=a1.index.values #picking the values\n",
    "a3=pd.Categorical(Full_Data['Address2'], categories=a2, ordered=False) #Finding only those streets in the dataset\n",
    "Full_Data['Address2_1']=a3 #making new column with only those streets and NaN for all others\n",
    "Full_Data['Address2_2']=100; #new column with starting value that will represent NaN from previous column\n",
    "a1=pd.value_counts(Full_Data['Address2_1']); #Getting the non NaN entries\n",
    "a2=a1.index.values; \n",
    "#below, giving each street a numerical value\n",
    "for x in range(0,len(a2)):\n",
    "    Full_Data.loc[Full_Data[Full_Data['Address2_1']==a2[x]].index.values,'Address2_2']=x\n",
    "\n",
    "a1=pd.value_counts(Full_Data['Address3'])[0:44] #Picking only the most common street names.\n",
    "#Here, I've set cutoff to be 10% of most common name.\n",
    "a2=a1.index.values #picking the values\n",
    "a3=pd.Categorical(Full_Data['Address3'], categories=a2, ordered=False) #Finding only those streets in the dataset\n",
    "Full_Data['Address3_1']=a3 #making new column with only those streets and NaN for all others\n",
    "Full_Data['Address3_2']=100; #new column with starting value that will represent NaN from previous column\n",
    "a1=pd.value_counts(Full_Data['Address3_1']); #Getting the non NaN entries\n",
    "a2=a1.index.values; \n",
    "#below, giving each street a numerical value\n",
    "for x in range(0,len(a2)):\n",
    "    Full_Data.loc[Full_Data[Full_Data['Address3_1']==a2[x]].index.values,'Address3_2']=x"
   ]
  },
  {
   "cell_type": "code",
   "execution_count": 13,
   "metadata": {
    "collapsed": true
   },
   "outputs": [],
   "source": [
    "#And making day of the week into a number\n",
    "Full_Data['Weekday']=8;\n",
    "a1=pd.value_counts(Full_Data['DayOfWeek']);\n",
    "a2=a1.index.values;\n",
    "for x in range(0,len(a2)):\n",
    "    Full_Data.loc[Full_Data[Full_Data['DayOfWeek']==a2[x]].index.values,'Weekday']=x"
   ]
  },
  {
   "cell_type": "code",
   "execution_count": 14,
   "metadata": {
    "collapsed": true
   },
   "outputs": [],
   "source": [
    "#Finally, let's do the same with the category section\n",
    "Full_Data['Outcome']=100;\n",
    "a1=pd.value_counts(Train['Category']);\n",
    "a2=a1.index.values;\n",
    "for x in range(0,len(a2)):\n",
    "    Full_Data.loc[Full_Data[Full_Data['Category']==a2[x]].index.values,'Outcome']=x"
   ]
  },
  {
   "cell_type": "code",
   "execution_count": 19,
   "metadata": {
    "collapsed": false
   },
   "outputs": [
    {
     "data": {
      "text/html": [
       "<div>\n",
       "<table border=\"1\" class=\"dataframe\">\n",
       "  <thead>\n",
       "    <tr style=\"text-align: right;\">\n",
       "      <th></th>\n",
       "      <th>Category</th>\n",
       "      <th>Outcome</th>\n",
       "    </tr>\n",
       "  </thead>\n",
       "  <tbody>\n",
       "    <tr>\n",
       "      <th>0</th>\n",
       "      <td>WARRANTS</td>\n",
       "      <td>7</td>\n",
       "    </tr>\n",
       "    <tr>\n",
       "      <th>1</th>\n",
       "      <td>OTHER OFFENSES</td>\n",
       "      <td>1</td>\n",
       "    </tr>\n",
       "    <tr>\n",
       "      <th>2</th>\n",
       "      <td>OTHER OFFENSES</td>\n",
       "      <td>1</td>\n",
       "    </tr>\n",
       "    <tr>\n",
       "      <th>3</th>\n",
       "      <td>LARCENY/THEFT</td>\n",
       "      <td>0</td>\n",
       "    </tr>\n",
       "    <tr>\n",
       "      <th>4</th>\n",
       "      <td>LARCENY/THEFT</td>\n",
       "      <td>0</td>\n",
       "    </tr>\n",
       "    <tr>\n",
       "      <th>5</th>\n",
       "      <td>LARCENY/THEFT</td>\n",
       "      <td>0</td>\n",
       "    </tr>\n",
       "    <tr>\n",
       "      <th>6</th>\n",
       "      <td>VEHICLE THEFT</td>\n",
       "      <td>5</td>\n",
       "    </tr>\n",
       "    <tr>\n",
       "      <th>7</th>\n",
       "      <td>VEHICLE THEFT</td>\n",
       "      <td>5</td>\n",
       "    </tr>\n",
       "    <tr>\n",
       "      <th>8</th>\n",
       "      <td>LARCENY/THEFT</td>\n",
       "      <td>0</td>\n",
       "    </tr>\n",
       "    <tr>\n",
       "      <th>9</th>\n",
       "      <td>LARCENY/THEFT</td>\n",
       "      <td>0</td>\n",
       "    </tr>\n",
       "  </tbody>\n",
       "</table>\n",
       "</div>"
      ],
      "text/plain": [
       "         Category  Outcome\n",
       "0        WARRANTS        7\n",
       "1  OTHER OFFENSES        1\n",
       "2  OTHER OFFENSES        1\n",
       "3   LARCENY/THEFT        0\n",
       "4   LARCENY/THEFT        0\n",
       "5   LARCENY/THEFT        0\n",
       "6   VEHICLE THEFT        5\n",
       "7   VEHICLE THEFT        5\n",
       "8   LARCENY/THEFT        0\n",
       "9   LARCENY/THEFT        0"
      ]
     },
     "execution_count": 19,
     "metadata": {},
     "output_type": "execute_result"
    }
   ],
   "source": [
    "#We need to record what this mapping looked like, so...what does it look like?\n",
    "Full_Data[['Category','Outcome']][0:10]"
   ]
  },
  {
   "cell_type": "code",
   "execution_count": 20,
   "metadata": {
    "collapsed": false
   },
   "outputs": [
    {
     "data": {
      "text/plain": [
       "array(['LARCENY/THEFT', 'OTHER OFFENSES', 'NON-CRIMINAL', 'ASSAULT',\n",
       "       'DRUG/NARCOTIC', 'VEHICLE THEFT', 'VANDALISM', 'WARRANTS',\n",
       "       'BURGLARY', 'SUSPICIOUS OCC', 'MISSING PERSON', 'ROBBERY', 'FRAUD',\n",
       "       'FORGERY/COUNTERFEITING', 'SECONDARY CODES', 'WEAPON LAWS',\n",
       "       'PROSTITUTION', 'TRESPASS', 'STOLEN PROPERTY',\n",
       "       'SEX OFFENSES FORCIBLE', 'DISORDERLY CONDUCT', 'DRUNKENNESS',\n",
       "       'RECOVERED VEHICLE', 'KIDNAPPING', 'DRIVING UNDER THE INFLUENCE',\n",
       "       'RUNAWAY', 'LIQUOR LAWS', 'ARSON', 'LOITERING', 'EMBEZZLEMENT',\n",
       "       'SUICIDE', 'FAMILY OFFENSES', 'BAD CHECKS', 'BRIBERY', 'EXTORTION',\n",
       "       'SEX OFFENSES NON FORCIBLE', 'GAMBLING', 'PORNOGRAPHY/OBSCENE MAT',\n",
       "       'TREA'], dtype=object)"
      ]
     },
     "execution_count": 20,
     "metadata": {},
     "output_type": "execute_result"
    }
   ],
   "source": [
    "#oh look, it's just in the order of a2. Excellent!\n",
    "a2"
   ]
  },
  {
   "cell_type": "code",
   "execution_count": 21,
   "metadata": {
    "collapsed": false
   },
   "outputs": [
    {
     "data": {
      "text/plain": [
       "array(['Id', 'Dates', 'Category', 'DayOfWeek', 'PdDistrict', 'Address',\n",
       "       'X', 'Y', 'X_binned', 'Y_binned', 'Address1', 'Address2',\n",
       "       'Address3', 'Date', 'Time', 'Year', 'Month', 'Day', 'Hour',\n",
       "       'Minute', 'Second', 'Address2_1', 'Address2_2', 'Address3_1',\n",
       "       'Address3_2', 'Weekday', 'Outcome'], dtype=object)"
      ]
     },
     "execution_count": 21,
     "metadata": {},
     "output_type": "execute_result"
    }
   ],
   "source": [
    "#Let's drop the features we no longer need:\n",
    "Full_Data.columns.values"
   ]
  },
  {
   "cell_type": "code",
   "execution_count": 22,
   "metadata": {
    "collapsed": false
   },
   "outputs": [],
   "source": [
    "#For now, I just choose the numerical numbers I am interested in.\n",
    "Full_Data=Full_Data[['Id','Outcome','Weekday','Address3_2','Address2_2','Year','Month','Day','Hour','Minute','X_binned','Y_binned']]"
   ]
  },
  {
   "cell_type": "code",
   "execution_count": 23,
   "metadata": {
    "collapsed": false
   },
   "outputs": [
    {
     "data": {
      "text/html": [
       "<div>\n",
       "<table border=\"1\" class=\"dataframe\">\n",
       "  <thead>\n",
       "    <tr style=\"text-align: right;\">\n",
       "      <th></th>\n",
       "      <th>Id</th>\n",
       "      <th>Outcome</th>\n",
       "      <th>Weekday</th>\n",
       "      <th>Address3_2</th>\n",
       "      <th>Address2_2</th>\n",
       "      <th>Year</th>\n",
       "      <th>Month</th>\n",
       "      <th>Day</th>\n",
       "      <th>Hour</th>\n",
       "      <th>Minute</th>\n",
       "      <th>X_binned</th>\n",
       "      <th>Y_binned</th>\n",
       "    </tr>\n",
       "  </thead>\n",
       "  <tbody>\n",
       "    <tr>\n",
       "      <th>0</th>\n",
       "      <td>-1</td>\n",
       "      <td>7</td>\n",
       "      <td>1</td>\n",
       "      <td>100</td>\n",
       "      <td>100</td>\n",
       "      <td>2015</td>\n",
       "      <td>5</td>\n",
       "      <td>13</td>\n",
       "      <td>23</td>\n",
       "      <td>53</td>\n",
       "      <td>6</td>\n",
       "      <td>6.0</td>\n",
       "    </tr>\n",
       "    <tr>\n",
       "      <th>1</th>\n",
       "      <td>-1</td>\n",
       "      <td>1</td>\n",
       "      <td>1</td>\n",
       "      <td>100</td>\n",
       "      <td>100</td>\n",
       "      <td>2015</td>\n",
       "      <td>5</td>\n",
       "      <td>13</td>\n",
       "      <td>23</td>\n",
       "      <td>53</td>\n",
       "      <td>6</td>\n",
       "      <td>6.0</td>\n",
       "    </tr>\n",
       "  </tbody>\n",
       "</table>\n",
       "</div>"
      ],
      "text/plain": [
       "   Id  Outcome  Weekday  Address3_2  Address2_2  Year  Month  Day  Hour  \\\n",
       "0  -1        7        1         100         100  2015      5   13    23   \n",
       "1  -1        1        1         100         100  2015      5   13    23   \n",
       "\n",
       "   Minute X_binned  Y_binned  \n",
       "0      53        6       6.0  \n",
       "1      53        6       6.0  "
      ]
     },
     "execution_count": 23,
     "metadata": {},
     "output_type": "execute_result"
    }
   ],
   "source": [
    "Full_Data.head(2)"
   ]
  },
  {
   "cell_type": "code",
   "execution_count": 24,
   "metadata": {
    "collapsed": false
   },
   "outputs": [],
   "source": [
    "#Now we need to split everything up again\n",
    "TrainNum=Full_Data[Full_Data['Id']<0]\n",
    "TestNum=Full_Data[Full_Data['Id']>=0]"
   ]
  },
  {
   "cell_type": "code",
   "execution_count": 25,
   "metadata": {
    "collapsed": false
   },
   "outputs": [
    {
     "data": {
      "text/plain": [
       "True"
      ]
     },
     "execution_count": 25,
     "metadata": {},
     "output_type": "execute_result"
    }
   ],
   "source": [
    "len(TrainNum)==Train_Length"
   ]
  },
  {
   "cell_type": "code",
   "execution_count": 26,
   "metadata": {
    "collapsed": false
   },
   "outputs": [
    {
     "data": {
      "text/plain": [
       "True"
      ]
     },
     "execution_count": 26,
     "metadata": {},
     "output_type": "execute_result"
    }
   ],
   "source": [
    "len(TestNum)==Test_Length"
   ]
  },
  {
   "cell_type": "code",
   "execution_count": 105,
   "metadata": {
    "collapsed": false
   },
   "outputs": [
    {
     "data": {
      "text/html": [
       "<div>\n",
       "<table border=\"1\" class=\"dataframe\">\n",
       "  <thead>\n",
       "    <tr style=\"text-align: right;\">\n",
       "      <th></th>\n",
       "      <th>Id</th>\n",
       "      <th>Outcome</th>\n",
       "      <th>Weekday</th>\n",
       "      <th>Address3_2</th>\n",
       "      <th>Address2_2</th>\n",
       "      <th>Year</th>\n",
       "      <th>Month</th>\n",
       "      <th>Day</th>\n",
       "      <th>Hour</th>\n",
       "      <th>Minute</th>\n",
       "      <th>X_binned</th>\n",
       "      <th>Y_binned</th>\n",
       "    </tr>\n",
       "  </thead>\n",
       "  <tbody>\n",
       "    <tr>\n",
       "      <th>0</th>\n",
       "      <td>-1</td>\n",
       "      <td>7</td>\n",
       "      <td>1</td>\n",
       "      <td>100</td>\n",
       "      <td>100</td>\n",
       "      <td>2015</td>\n",
       "      <td>5</td>\n",
       "      <td>13</td>\n",
       "      <td>23</td>\n",
       "      <td>53</td>\n",
       "      <td>6</td>\n",
       "      <td>6.0</td>\n",
       "    </tr>\n",
       "    <tr>\n",
       "      <th>1</th>\n",
       "      <td>-1</td>\n",
       "      <td>1</td>\n",
       "      <td>1</td>\n",
       "      <td>100</td>\n",
       "      <td>100</td>\n",
       "      <td>2015</td>\n",
       "      <td>5</td>\n",
       "      <td>13</td>\n",
       "      <td>23</td>\n",
       "      <td>53</td>\n",
       "      <td>6</td>\n",
       "      <td>6.0</td>\n",
       "    </tr>\n",
       "  </tbody>\n",
       "</table>\n",
       "</div>"
      ],
      "text/plain": [
       "   Id  Outcome  Weekday  Address3_2  Address2_2  Year  Month  Day  Hour  \\\n",
       "0  -1        7        1         100         100  2015      5   13    23   \n",
       "1  -1        1        1         100         100  2015      5   13    23   \n",
       "\n",
       "   Minute X_binned  Y_binned  \n",
       "0      53        6       6.0  \n",
       "1      53        6       6.0  "
      ]
     },
     "execution_count": 105,
     "metadata": {},
     "output_type": "execute_result"
    }
   ],
   "source": [
    "TrainNum.head(2)"
   ]
  },
  {
   "cell_type": "code",
   "execution_count": 27,
   "metadata": {
    "collapsed": false
   },
   "outputs": [],
   "source": [
    "TrainNum=TrainNum.drop('Id', axis=1)"
   ]
  },
  {
   "cell_type": "code",
   "execution_count": 107,
   "metadata": {
    "collapsed": false
   },
   "outputs": [
    {
     "data": {
      "text/html": [
       "<div>\n",
       "<table border=\"1\" class=\"dataframe\">\n",
       "  <thead>\n",
       "    <tr style=\"text-align: right;\">\n",
       "      <th></th>\n",
       "      <th>Id</th>\n",
       "      <th>Outcome</th>\n",
       "      <th>Weekday</th>\n",
       "      <th>Address3_2</th>\n",
       "      <th>Address2_2</th>\n",
       "      <th>Year</th>\n",
       "      <th>Month</th>\n",
       "      <th>Day</th>\n",
       "      <th>Hour</th>\n",
       "      <th>Minute</th>\n",
       "      <th>X_binned</th>\n",
       "      <th>Y_binned</th>\n",
       "    </tr>\n",
       "  </thead>\n",
       "  <tbody>\n",
       "    <tr>\n",
       "      <th>878049</th>\n",
       "      <td>0</td>\n",
       "      <td>100</td>\n",
       "      <td>6</td>\n",
       "      <td>100</td>\n",
       "      <td>16</td>\n",
       "      <td>2015</td>\n",
       "      <td>5</td>\n",
       "      <td>10</td>\n",
       "      <td>23</td>\n",
       "      <td>59</td>\n",
       "      <td>7</td>\n",
       "      <td>3.0</td>\n",
       "    </tr>\n",
       "    <tr>\n",
       "      <th>878050</th>\n",
       "      <td>1</td>\n",
       "      <td>100</td>\n",
       "      <td>6</td>\n",
       "      <td>100</td>\n",
       "      <td>100</td>\n",
       "      <td>2015</td>\n",
       "      <td>5</td>\n",
       "      <td>10</td>\n",
       "      <td>23</td>\n",
       "      <td>51</td>\n",
       "      <td>7</td>\n",
       "      <td>3.0</td>\n",
       "    </tr>\n",
       "  </tbody>\n",
       "</table>\n",
       "</div>"
      ],
      "text/plain": [
       "        Id  Outcome  Weekday  Address3_2  Address2_2  Year  Month  Day  Hour  \\\n",
       "878049   0      100        6         100          16  2015      5   10    23   \n",
       "878050   1      100        6         100         100  2015      5   10    23   \n",
       "\n",
       "        Minute X_binned  Y_binned  \n",
       "878049      59        7       3.0  \n",
       "878050      51        7       3.0  "
      ]
     },
     "execution_count": 107,
     "metadata": {},
     "output_type": "execute_result"
    }
   ],
   "source": [
    "TestNum.head(2)"
   ]
  },
  {
   "cell_type": "code",
   "execution_count": 28,
   "metadata": {
    "collapsed": true
   },
   "outputs": [],
   "source": [
    "TestNum=TestNum.drop('Outcome',axis=1)\n",
    "TestNum=TestNum.reset_index(drop=True)"
   ]
  },
  {
   "cell_type": "code",
   "execution_count": 29,
   "metadata": {
    "collapsed": false
   },
   "outputs": [],
   "source": [
    "#OK, let's write these new dataframes into csv's so I can save them.\n",
    "TrainNum.to_csv('TrainNum.csv',header=True, index=False)\n",
    "TestNum.to_csv('TestNum.csv',header=True, index=False)"
   ]
  },
  {
   "cell_type": "code",
   "execution_count": null,
   "metadata": {
    "collapsed": true
   },
   "outputs": [],
   "source": []
  }
 ],
 "metadata": {
  "kernelspec": {
   "display_name": "Python 3",
   "language": "python",
   "name": "python3"
  },
  "language_info": {
   "codemirror_mode": {
    "name": "ipython",
    "version": 3
   },
   "file_extension": ".py",
   "mimetype": "text/x-python",
   "name": "python",
   "nbconvert_exporter": "python",
   "pygments_lexer": "ipython3",
   "version": "3.5.1"
  }
 },
 "nbformat": 4,
 "nbformat_minor": 0
}
