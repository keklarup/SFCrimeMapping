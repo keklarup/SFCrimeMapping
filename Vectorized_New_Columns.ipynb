{
 "cells": [
  {
   "cell_type": "code",
   "execution_count": 157,
   "metadata": {
    "collapsed": true
   },
   "outputs": [],
   "source": [
    "#This snippet of code is for anyone looking quickly split data in strings within their dataset into new columns\n",
    "#when using Pandas. Hooray for not looping as much!\n",
    "%matplotlib inline\n",
    "import pandas as pd #pandas is a useful array/matrix/spreadsheet maipulator. But it has some unique language\n",
    "import numpy as np #math stuff!\n",
    "import matplotlib.pyplot as plt #plotting package.\n",
    "import seaborn as sns\n",
    "from mpl_toolkits.basemap import Basemap\n",
    "from sklearn.ensemble import RandomForestClassifier"
   ]
  },
  {
   "cell_type": "code",
   "execution_count": 159,
   "metadata": {
    "collapsed": false
   },
   "outputs": [],
   "source": [
    "#opening training set\n",
    "vecTrain=pd.read_csv('train.csv', header=0)"
   ]
  },
  {
   "cell_type": "code",
   "execution_count": 167,
   "metadata": {
    "collapsed": false
   },
   "outputs": [],
   "source": [
    "#Looking at addresses, they are either intersections or the block of a road.\n",
    "#I choose to break intersections into each street and seperate blocks and their road.\n",
    "#First, replacing all the 'of' with '/' (e.g. 600 block of Market ST-->600 block / Market ST)\n",
    "vecTrain['Address1']=vecTrain['Address'].str.replace('of','/') #"
   ]
  },
  {
   "cell_type": "code",
   "execution_count": 168,
   "metadata": {
    "collapsed": false
   },
   "outputs": [],
   "source": [
    "#Now make 2 new columns using split on the ' / ':\n",
    "#(Spaces added above to remove empty spaces from new entries)\n",
    "vecTrain[['Address2','Address3']]=vecTrain['Address1'].str.split(' / ',expand=True)"
   ]
  },
  {
   "cell_type": "code",
   "execution_count": 171,
   "metadata": {
    "collapsed": false
   },
   "outputs": [
    {
     "data": {
      "text/html": [
       "<div>\n",
       "<table border=\"1\" class=\"dataframe\">\n",
       "  <thead>\n",
       "    <tr style=\"text-align: right;\">\n",
       "      <th></th>\n",
       "      <th>Address</th>\n",
       "      <th>Address2</th>\n",
       "      <th>Address3</th>\n",
       "    </tr>\n",
       "  </thead>\n",
       "  <tbody>\n",
       "    <tr>\n",
       "      <th>0</th>\n",
       "      <td>OAK ST / LAGUNA ST</td>\n",
       "      <td>OAK ST</td>\n",
       "      <td>LAGUNA ST</td>\n",
       "    </tr>\n",
       "    <tr>\n",
       "      <th>1</th>\n",
       "      <td>OAK ST / LAGUNA ST</td>\n",
       "      <td>OAK ST</td>\n",
       "      <td>LAGUNA ST</td>\n",
       "    </tr>\n",
       "    <tr>\n",
       "      <th>2</th>\n",
       "      <td>VANNESS AV / GREENWICH ST</td>\n",
       "      <td>VANNESS AV</td>\n",
       "      <td>GREENWICH ST</td>\n",
       "    </tr>\n",
       "    <tr>\n",
       "      <th>3</th>\n",
       "      <td>1500 Block of LOMBARD ST</td>\n",
       "      <td>1500 Block</td>\n",
       "      <td>LOMBARD ST</td>\n",
       "    </tr>\n",
       "    <tr>\n",
       "      <th>4</th>\n",
       "      <td>100 Block of BRODERICK ST</td>\n",
       "      <td>100 Block</td>\n",
       "      <td>BRODERICK ST</td>\n",
       "    </tr>\n",
       "  </tbody>\n",
       "</table>\n",
       "</div>"
      ],
      "text/plain": [
       "                     Address    Address2      Address3\n",
       "0         OAK ST / LAGUNA ST      OAK ST     LAGUNA ST\n",
       "1         OAK ST / LAGUNA ST      OAK ST     LAGUNA ST\n",
       "2  VANNESS AV / GREENWICH ST  VANNESS AV  GREENWICH ST\n",
       "3   1500 Block of LOMBARD ST  1500 Block    LOMBARD ST\n",
       "4  100 Block of BRODERICK ST   100 Block  BRODERICK ST"
      ]
     },
     "execution_count": 171,
     "metadata": {},
     "output_type": "execute_result"
    }
   ],
   "source": [
    "#Ta da! That would have taken many hours with a for loop.\n",
    "vecTrain[['Address','Address2','Address3']].head()"
   ]
  },
  {
   "cell_type": "code",
   "execution_count": 173,
   "metadata": {
    "collapsed": false
   },
   "outputs": [],
   "source": [
    "#Doing the same on the dates:\n",
    "vecTrain[['Date','Time']]=vecTrain['Dates'].str.split(' ', expand=True)"
   ]
  },
  {
   "cell_type": "code",
   "execution_count": 175,
   "metadata": {
    "collapsed": false
   },
   "outputs": [],
   "source": [
    "vecTrain[['Year','Month','Day']]=vecTrain['Date'].str.split('-', expand=True)"
   ]
  },
  {
   "cell_type": "code",
   "execution_count": 177,
   "metadata": {
    "collapsed": false
   },
   "outputs": [],
   "source": [
    "vecTrain[['Hour','Minute','Second']]=vecTrain['Time'].str.split(':',expand=True)"
   ]
  },
  {
   "cell_type": "code",
   "execution_count": 181,
   "metadata": {
    "collapsed": false
   },
   "outputs": [
    {
     "data": {
      "text/html": [
       "<div>\n",
       "<table border=\"1\" class=\"dataframe\">\n",
       "  <thead>\n",
       "    <tr style=\"text-align: right;\">\n",
       "      <th></th>\n",
       "      <th>Dates</th>\n",
       "      <th>Date</th>\n",
       "      <th>Year</th>\n",
       "      <th>Month</th>\n",
       "      <th>Day</th>\n",
       "      <th>Time</th>\n",
       "      <th>Hour</th>\n",
       "      <th>Minute</th>\n",
       "      <th>Second</th>\n",
       "      <th>Address</th>\n",
       "      <th>Address1</th>\n",
       "      <th>Address2</th>\n",
       "      <th>Address3</th>\n",
       "    </tr>\n",
       "  </thead>\n",
       "  <tbody>\n",
       "    <tr>\n",
       "      <th>0</th>\n",
       "      <td>2015-05-13 23:53:00</td>\n",
       "      <td>2015-05-13</td>\n",
       "      <td>2015</td>\n",
       "      <td>05</td>\n",
       "      <td>13</td>\n",
       "      <td>23:53:00</td>\n",
       "      <td>23</td>\n",
       "      <td>53</td>\n",
       "      <td>00</td>\n",
       "      <td>OAK ST / LAGUNA ST</td>\n",
       "      <td>OAK ST / LAGUNA ST</td>\n",
       "      <td>OAK ST</td>\n",
       "      <td>LAGUNA ST</td>\n",
       "    </tr>\n",
       "    <tr>\n",
       "      <th>1</th>\n",
       "      <td>2015-05-13 23:53:00</td>\n",
       "      <td>2015-05-13</td>\n",
       "      <td>2015</td>\n",
       "      <td>05</td>\n",
       "      <td>13</td>\n",
       "      <td>23:53:00</td>\n",
       "      <td>23</td>\n",
       "      <td>53</td>\n",
       "      <td>00</td>\n",
       "      <td>OAK ST / LAGUNA ST</td>\n",
       "      <td>OAK ST / LAGUNA ST</td>\n",
       "      <td>OAK ST</td>\n",
       "      <td>LAGUNA ST</td>\n",
       "    </tr>\n",
       "    <tr>\n",
       "      <th>2</th>\n",
       "      <td>2015-05-13 23:33:00</td>\n",
       "      <td>2015-05-13</td>\n",
       "      <td>2015</td>\n",
       "      <td>05</td>\n",
       "      <td>13</td>\n",
       "      <td>23:33:00</td>\n",
       "      <td>23</td>\n",
       "      <td>33</td>\n",
       "      <td>00</td>\n",
       "      <td>VANNESS AV / GREENWICH ST</td>\n",
       "      <td>VANNESS AV / GREENWICH ST</td>\n",
       "      <td>VANNESS AV</td>\n",
       "      <td>GREENWICH ST</td>\n",
       "    </tr>\n",
       "    <tr>\n",
       "      <th>3</th>\n",
       "      <td>2015-05-13 23:30:00</td>\n",
       "      <td>2015-05-13</td>\n",
       "      <td>2015</td>\n",
       "      <td>05</td>\n",
       "      <td>13</td>\n",
       "      <td>23:30:00</td>\n",
       "      <td>23</td>\n",
       "      <td>30</td>\n",
       "      <td>00</td>\n",
       "      <td>1500 Block of LOMBARD ST</td>\n",
       "      <td>1500 Block / LOMBARD ST</td>\n",
       "      <td>1500 Block</td>\n",
       "      <td>LOMBARD ST</td>\n",
       "    </tr>\n",
       "    <tr>\n",
       "      <th>4</th>\n",
       "      <td>2015-05-13 23:30:00</td>\n",
       "      <td>2015-05-13</td>\n",
       "      <td>2015</td>\n",
       "      <td>05</td>\n",
       "      <td>13</td>\n",
       "      <td>23:30:00</td>\n",
       "      <td>23</td>\n",
       "      <td>30</td>\n",
       "      <td>00</td>\n",
       "      <td>100 Block of BRODERICK ST</td>\n",
       "      <td>100 Block / BRODERICK ST</td>\n",
       "      <td>100 Block</td>\n",
       "      <td>BRODERICK ST</td>\n",
       "    </tr>\n",
       "  </tbody>\n",
       "</table>\n",
       "</div>"
      ],
      "text/plain": [
       "                 Dates        Date  Year Month Day      Time Hour Minute  \\\n",
       "0  2015-05-13 23:53:00  2015-05-13  2015    05  13  23:53:00   23     53   \n",
       "1  2015-05-13 23:53:00  2015-05-13  2015    05  13  23:53:00   23     53   \n",
       "2  2015-05-13 23:33:00  2015-05-13  2015    05  13  23:33:00   23     33   \n",
       "3  2015-05-13 23:30:00  2015-05-13  2015    05  13  23:30:00   23     30   \n",
       "4  2015-05-13 23:30:00  2015-05-13  2015    05  13  23:30:00   23     30   \n",
       "\n",
       "  Second                    Address                   Address1    Address2  \\\n",
       "0     00         OAK ST / LAGUNA ST         OAK ST / LAGUNA ST      OAK ST   \n",
       "1     00         OAK ST / LAGUNA ST         OAK ST / LAGUNA ST      OAK ST   \n",
       "2     00  VANNESS AV / GREENWICH ST  VANNESS AV / GREENWICH ST  VANNESS AV   \n",
       "3     00   1500 Block of LOMBARD ST    1500 Block / LOMBARD ST  1500 Block   \n",
       "4     00  100 Block of BRODERICK ST   100 Block / BRODERICK ST   100 Block   \n",
       "\n",
       "       Address3  \n",
       "0     LAGUNA ST  \n",
       "1     LAGUNA ST  \n",
       "2  GREENWICH ST  \n",
       "3    LOMBARD ST  \n",
       "4  BRODERICK ST  "
      ]
     },
     "execution_count": 181,
     "metadata": {},
     "output_type": "execute_result"
    }
   ],
   "source": [
    "vecTrain[['Dates','Date','Year','Month','Day','Time','Hour','Minute','Second','Address','Address1','Address2','Address3']].head()"
   ]
  },
  {
   "cell_type": "code",
   "execution_count": null,
   "metadata": {
    "collapsed": true
   },
   "outputs": [],
   "source": []
  }
 ],
 "metadata": {
  "kernelspec": {
   "display_name": "Python 3",
   "language": "python",
   "name": "python3"
  },
  "language_info": {
   "codemirror_mode": {
    "name": "ipython",
    "version": 3
   },
   "file_extension": ".py",
   "mimetype": "text/x-python",
   "name": "python",
   "nbconvert_exporter": "python",
   "pygments_lexer": "ipython3",
   "version": "3.5.1"
  }
 },
 "nbformat": 4,
 "nbformat_minor": 0
}
