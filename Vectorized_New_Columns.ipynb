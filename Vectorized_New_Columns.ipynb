{
 "cells": [
  {
   "cell_type": "code",
   "execution_count": 157,
   "metadata": {
    "collapsed": true
   },
   "outputs": [],
   "source": [
    "#This snippet of code is for anyone looking quickly split data in strings within their dataset into new columns\n",
    "#when using Pandas. Hooray for not looping as much!\n",
    "%matplotlib inline\n",
    "import pandas as pd #pandas is a useful array/matrix/spreadsheet maipulator. But it has some unique language\n",
    "import numpy as np #math stuff!\n",
    "import matplotlib.pyplot as plt #plotting package.\n",
    "import seaborn as sns\n",
    "from mpl_toolkits.basemap import Basemap\n",
    "from sklearn.ensemble import RandomForestClassifier"
   ]
  },
  {
   "cell_type": "code",
   "execution_count": 158,
   "metadata": {
    "collapsed": false
   },
   "outputs": [
    {
     "name": "stdout",
     "output_type": "stream",
     "text": [
      " Volume in drive C has no label.\n",
      " Volume Serial Number is 7A48-729A\n",
      "\n",
      " Directory of C:\\Users\\KLK\\Kaggle Codes\\SanFranCrime\\SFCrimeMapping\n",
      "\n",
      "05/26/2016  05:26 PM    <DIR>          .\n",
      "05/26/2016  05:26 PM    <DIR>          ..\n",
      "05/26/2016  05:26 PM    <DIR>          .ipynb_checkpoints\n",
      "05/26/2016  04:34 PM           573,004 Data Cleaning.ipynb\n",
      "05/26/2016  03:45 PM               201 README.md\n",
      "05/21/2016  09:46 PM        75,051,678 sampleSubmission.csv\n",
      "05/24/2016  04:59 PM             2,619 SanFran2575Corr.png\n",
      "05/26/2016  03:45 PM           135,836 SanFran2575Map.png\n",
      "05/21/2016  09:43 PM             2,141 SanFranCorr.png\n",
      "05/26/2016  10:24 AM         1,543,766 SanFranCrime.ipynb\n",
      "05/21/2016  09:42 PM           145,883 SanFranMap.png\n",
      "05/21/2016  09:49 PM         7,230,886 sf_map_copyright_openstreetmap_contributors.txt\n",
      "05/26/2016  03:45 PM         5,090,953 SFcrime.ipynb\n",
      "05/21/2016  09:46 PM        90,996,610 test.csv\n",
      "05/21/2016  09:46 PM       127,433,651 train.csv\n",
      "05/26/2016  02:09 PM       142,324,385 trainAdapt1.csv\n",
      "05/26/2016  05:22 PM            31,000 Vectorized_New_Columns.ipynb\n",
      "              14 File(s)    450,562,613 bytes\n",
      "               3 Dir(s)  229,067,853,824 bytes free\n"
     ]
    }
   ],
   "source": [
    "ls"
   ]
  },
  {
   "cell_type": "code",
   "execution_count": 159,
   "metadata": {
    "collapsed": false
   },
   "outputs": [],
   "source": [
    "#opening training set\n",
    "vecTrain=pd.read_csv('train.csv', header=0)"
   ]
  },
  {
   "cell_type": "code",
   "execution_count": 167,
   "metadata": {
    "collapsed": false
   },
   "outputs": [],
   "source": [
    "#Looking at addresses, they are either intersections or the block of a road.\n",
    "#I choose to break intersections into each street and seperate blocks and their road.\n",
    "#First, replacing all the 'of' with '/' (e.g. 600 block of Market ST-->600 block / Market ST)\n",
    "vecTrain['Address1']=vecTrain['Address'].str.replace('of','/') #"
   ]
  },
  {
   "cell_type": "code",
   "execution_count": 168,
   "metadata": {
    "collapsed": false
   },
   "outputs": [],
   "source": [
    "#Now make 2 new columns using split on the ' / ':\n",
    "#(Spaces added above to remove empty spaces from new entries)\n",
    "vecTrain[['Address2','Address3']]=vecTrain['Address1'].str.split(' / ',expand=True)"
   ]
  },
  {
   "cell_type": "code",
   "execution_count": 171,
   "metadata": {
    "collapsed": false
   },
   "outputs": [
    {
     "data": {
      "text/html": [
       "<div>\n",
       "<table border=\"1\" class=\"dataframe\">\n",
       "  <thead>\n",
       "    <tr style=\"text-align: right;\">\n",
       "      <th></th>\n",
       "      <th>Address</th>\n",
       "      <th>Address2</th>\n",
       "      <th>Address3</th>\n",
       "    </tr>\n",
       "  </thead>\n",
       "  <tbody>\n",
       "    <tr>\n",
       "      <th>0</th>\n",
       "      <td>OAK ST / LAGUNA ST</td>\n",
       "      <td>OAK ST</td>\n",
       "      <td>LAGUNA ST</td>\n",
       "    </tr>\n",
       "    <tr>\n",
       "      <th>1</th>\n",
       "      <td>OAK ST / LAGUNA ST</td>\n",
       "      <td>OAK ST</td>\n",
       "      <td>LAGUNA ST</td>\n",
       "    </tr>\n",
       "    <tr>\n",
       "      <th>2</th>\n",
       "      <td>VANNESS AV / GREENWICH ST</td>\n",
       "      <td>VANNESS AV</td>\n",
       "      <td>GREENWICH ST</td>\n",
       "    </tr>\n",
       "    <tr>\n",
       "      <th>3</th>\n",
       "      <td>1500 Block of LOMBARD ST</td>\n",
       "      <td>1500 Block</td>\n",
       "      <td>LOMBARD ST</td>\n",
       "    </tr>\n",
       "    <tr>\n",
       "      <th>4</th>\n",
       "      <td>100 Block of BRODERICK ST</td>\n",
       "      <td>100 Block</td>\n",
       "      <td>BRODERICK ST</td>\n",
       "    </tr>\n",
       "  </tbody>\n",
       "</table>\n",
       "</div>"
      ],
      "text/plain": [
       "                     Address    Address2      Address3\n",
       "0         OAK ST / LAGUNA ST      OAK ST     LAGUNA ST\n",
       "1         OAK ST / LAGUNA ST      OAK ST     LAGUNA ST\n",
       "2  VANNESS AV / GREENWICH ST  VANNESS AV  GREENWICH ST\n",
       "3   1500 Block of LOMBARD ST  1500 Block    LOMBARD ST\n",
       "4  100 Block of BRODERICK ST   100 Block  BRODERICK ST"
      ]
     },
     "execution_count": 171,
     "metadata": {},
     "output_type": "execute_result"
    }
   ],
   "source": [
    "#Ta da! That would have taken many hours with a for loop.\n",
    "vecTrain[['Address','Address2','Address3']].head()"
   ]
  },
  {
   "cell_type": "code",
   "execution_count": 173,
   "metadata": {
    "collapsed": false
   },
   "outputs": [],
   "source": [
    "#Doing the same on the dates:\n",
    "vecTrain[['Date','Time']]=vecTrain['Dates'].str.split(' ', expand=True)"
   ]
  },
  {
   "cell_type": "code",
   "execution_count": 175,
   "metadata": {
    "collapsed": false
   },
   "outputs": [],
   "source": [
    "vecTrain[['Year','Month','Day']]=vecTrain['Date'].str.split('-', expand=True)"
   ]
  },
  {
   "cell_type": "code",
   "execution_count": 177,
   "metadata": {
    "collapsed": false
   },
   "outputs": [],
   "source": [
    "vecTrain[['Hour','Minute','Second']]=vecTrain['Time'].str.split(':',expand=True)"
   ]
  },
  {
   "cell_type": "code",
   "execution_count": null,
   "metadata": {
    "collapsed": true
   },
   "outputs": [],
   "source": []
  }
 ],
 "metadata": {
  "kernelspec": {
   "display_name": "Python 3",
   "language": "python",
   "name": "python3"
  },
  "language_info": {
   "codemirror_mode": {
    "name": "ipython",
    "version": 3
   },
   "file_extension": ".py",
   "mimetype": "text/x-python",
   "name": "python",
   "nbconvert_exporter": "python",
   "pygments_lexer": "ipython3",
   "version": "3.5.1"
  }
 },
 "nbformat": 4,
 "nbformat_minor": 0
}
