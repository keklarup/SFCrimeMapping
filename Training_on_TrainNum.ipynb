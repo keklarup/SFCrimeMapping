{
 "cells": [
  {
   "cell_type": "code",
   "execution_count": 1,
   "metadata": {
    "collapsed": true
   },
   "outputs": [],
   "source": [
    "%matplotlib inline\n",
    "import pandas as pd #pandas is a useful array/matrix/spreadsheet maipulator. But it has some unique language\n",
    "import numpy as np #math stuff!\n",
    "import matplotlib.pyplot as plt #plotting package.\n",
    "import seaborn as sns\n",
    "from mpl_toolkits.basemap import Basemap\n",
    "from sklearn.ensemble import RandomForestClassifier\n",
    "from scipy import sparse\n",
    "import scipy"
   ]
  },
  {
   "cell_type": "code",
   "execution_count": 2,
   "metadata": {
    "collapsed": true
   },
   "outputs": [],
   "source": [
    "#Importing the previously cleaned data. Only numbers to be found here!\n",
    "Train=pd.read_csv('trainNum.csv', header=0)"
   ]
  },
  {
   "cell_type": "code",
   "execution_count": 3,
   "metadata": {
    "collapsed": false
   },
   "outputs": [
    {
     "data": {
      "text/html": [
       "<div>\n",
       "<table border=\"1\" class=\"dataframe\">\n",
       "  <thead>\n",
       "    <tr style=\"text-align: right;\">\n",
       "      <th></th>\n",
       "      <th>Outcome</th>\n",
       "      <th>Weekday</th>\n",
       "      <th>Address3_2</th>\n",
       "      <th>Address2_2</th>\n",
       "      <th>Year</th>\n",
       "      <th>Month</th>\n",
       "      <th>Day</th>\n",
       "      <th>Hour</th>\n",
       "      <th>Minute</th>\n",
       "      <th>X_binned</th>\n",
       "      <th>Y_binned</th>\n",
       "    </tr>\n",
       "  </thead>\n",
       "  <tbody>\n",
       "    <tr>\n",
       "      <th>0</th>\n",
       "      <td>7</td>\n",
       "      <td>1</td>\n",
       "      <td>100</td>\n",
       "      <td>100</td>\n",
       "      <td>2015</td>\n",
       "      <td>5</td>\n",
       "      <td>13</td>\n",
       "      <td>23</td>\n",
       "      <td>53</td>\n",
       "      <td>6</td>\n",
       "      <td>6.0</td>\n",
       "    </tr>\n",
       "    <tr>\n",
       "      <th>1</th>\n",
       "      <td>1</td>\n",
       "      <td>1</td>\n",
       "      <td>100</td>\n",
       "      <td>100</td>\n",
       "      <td>2015</td>\n",
       "      <td>5</td>\n",
       "      <td>13</td>\n",
       "      <td>23</td>\n",
       "      <td>53</td>\n",
       "      <td>6</td>\n",
       "      <td>6.0</td>\n",
       "    </tr>\n",
       "  </tbody>\n",
       "</table>\n",
       "</div>"
      ],
      "text/plain": [
       "   Outcome  Weekday  Address3_2  Address2_2  Year  Month  Day  Hour  Minute  \\\n",
       "0        7        1         100         100  2015      5   13    23      53   \n",
       "1        1        1         100         100  2015      5   13    23      53   \n",
       "\n",
       "   X_binned  Y_binned  \n",
       "0         6       6.0  \n",
       "1         6       6.0  "
      ]
     },
     "execution_count": 3,
     "metadata": {},
     "output_type": "execute_result"
    }
   ],
   "source": [
    "Train.head(2)"
   ]
  },
  {
   "cell_type": "code",
   "execution_count": 4,
   "metadata": {
    "collapsed": true
   },
   "outputs": [],
   "source": [
    "#Here's a bit of code to break up Train into a training set and a cross validation set.\n",
    "#This cross valiation set will be used to predict how well our model will fit other (i.e. test) data.\n",
    "n=len(Train);\n",
    "nTrain=int(n*.8)\n",
    "nCV=n-nTrain\n",
    "subTrain1=Train.sample(n)\n",
    "trainingset=subTrain1[0:nTrain]\n",
    "CVset=subTrain1[nTrain:]"
   ]
  },
  {
   "cell_type": "code",
   "execution_count": null,
   "metadata": {
    "collapsed": true
   },
   "outputs": [],
   "source": [
    "#What follows is a step-by-step design to test how well or model is fitting the data.\n",
    "#Later, it's all put into a definition, so feel free to skip to the definition if this all makes sense."
   ]
  },
  {
   "cell_type": "code",
   "execution_count": 5,
   "metadata": {
    "collapsed": true
   },
   "outputs": [],
   "source": [
    "#For reference, here are all the available features I have:\n",
    "features=['Weekday','Address3_2','Address2_2','Year','Month','Day','Hour','Minute','X_binned','Y_binned']"
   ]
  },
  {
   "cell_type": "code",
   "execution_count": 6,
   "metadata": {
    "collapsed": true
   },
   "outputs": [],
   "source": [
    "#Predict prob for each outcome for each obsservation using a random forest (almost the same as in Titanic example)\n",
    "#To start, I'm going to only use a few features:\n",
    "features=['Month','Day','Hour']\n",
    "train_data=trainingset[['Outcome']+features].sample(10000).values #And use a random subset of the training set.\n",
    "forest=RandomForestClassifier(n_estimators=100,n_jobs=-1) #Now I run a random forest with 100 tree on all core of my pc\n",
    "#Telling package to train with the first column as answer (survived), all other columns are features to use to make model.\n",
    "forest=forest.fit(train_data[0::,1::],list(train_data[0::,0]))\n",
    "output=forest.predict_proba(train_data[0::,1::]) #Here I'm predicting the prob for each possible outcome for each example"
   ]
  },
  {
   "cell_type": "code",
   "execution_count": 7,
   "metadata": {
    "collapsed": true
   },
   "outputs": [],
   "source": [
    "#Now, forest.predict_proba has a problem. It only predicts the percent chance of outcomes given to it while it trains.\n",
    "#So, if there's an outcome that wasn't in the small training set I'm using to test all this code,\n",
    "#It won't be in the output. \n",
    "#E.g. my forest will only predict on 33 of the 39 features because train_data only had 33 outcomes.\n",
    "#That's not a big problem by itself, but it will be if the CV set has a different set of outcomes.\n",
    "#Better to just add in all the features that the forest won't ever predict (always 0)\n",
    "#into both training output and CV output.\n",
    "outcomesused=sorted(pd.value_counts(train_data[:,0]).index.values) #Which outcomes are in my training data\n",
    "elmToAdd=[];\n",
    "for elm in list(range(0,len(Train['Outcome'].unique()))): #Determine which, if any, outcomes are not being trained for.\n",
    "    if elm not in outcomesused:\n",
    "        elmToAdd.append(elm)\n",
    "output2=output\n",
    "for elm in elmToAdd: #Insert 0 columns in for the missed outcomes\n",
    "    output2=np.insert(output2, [elm], [0],axis=1)"
   ]
  },
  {
   "cell_type": "code",
   "execution_count": 8,
   "metadata": {
    "collapsed": true
   },
   "outputs": [],
   "source": [
    "#Now, I need to take the outcomes, current single values, and make them into arrays \n",
    "#as long as the number of possible outcomes.\n",
    "#I'll use a sparse array for this:\n",
    "n=1000; #same n as used above for size of training set\n",
    "colNum=len(Train['Outcome'].unique()) #Again, make sure it has columns for every possible outcome, \n",
    "                                      #even if not all are present.\n",
    "row  = np.array(list(range(0, n)))\n",
    "col  = np.array(train_data[0:n,0].astype(int))\n",
    "data = np.array(list(np.ones(n)))\n",
    "test=sparse.coo_matrix((data,(row,col)), shape=(n,colNum)).todense()\n",
    "#Now the known outcomes are in the same matrix form as the output of the forest."
   ]
  },
  {
   "cell_type": "code",
   "execution_count": 9,
   "metadata": {
    "collapsed": false
   },
   "outputs": [
    {
     "name": "stdout",
     "output_type": "stream",
     "text": [
      "0.899891423932\n"
     ]
    }
   ],
   "source": [
    "#I want to use the error function to check results that Kaggle uses, so I need to take the log of my predictions.\n",
    "logPredict=np.log(output2[0:n]);\n",
    "#If there are any 0's, that will result in -inf. inf is a problem. I work around this by making -100 a different value.\n",
    "logPredict[logPredict == -np.inf] = -100\n",
    "#picking out and summing the percent of correct choice:\n",
    "error=np.sum(-np.multiply(logPredict,test))/n\n",
    "print (error)"
   ]
  },
  {
   "cell_type": "code",
   "execution_count": 10,
   "metadata": {
    "collapsed": false
   },
   "outputs": [
    {
     "name": "stdout",
     "output_type": "stream",
     "text": [
      "40.0148668946\n"
     ]
    }
   ],
   "source": [
    "#Need to do the same for the CV set:\n",
    "CV_data=CVset[['Outcome']+features].sample(1000).values\n",
    "CVoutput=forest.predict_proba(CV_data[0::,1::])\n",
    "\n",
    "output2=CVoutput\n",
    "for elm in elmToAdd:\n",
    "    output2=np.insert(output2, [elm], [0],axis=1)\n",
    "    \n",
    "n=1000;\n",
    "colNum=len(Train['Outcome'].unique())\n",
    "row  = np.array(list(range(0, n)))\n",
    "col  = np.array(CV_data[0:n,0].astype(int))\n",
    "data = np.array(list(np.ones(n)))\n",
    "test=sparse.coo_matrix((data,(row,col)), shape=(n,colNum)).todense()\n",
    "\n",
    "logPredict=np.log(output2[0:n]);\n",
    "logPredict[logPredict == -np.inf] = -100\n",
    "error=np.sum(-np.multiply(logPredict,test))/n\n",
    "print (error)"
   ]
  },
  {
   "cell_type": "code",
   "execution_count": null,
   "metadata": {
    "collapsed": true
   },
   "outputs": [],
   "source": [
    "#This this HUGE difference in training vs cv error. That's telling me my fit sucks. Good thing I can optimize!"
   ]
  },
  {
   "cell_type": "code",
   "execution_count": 11,
   "metadata": {
    "collapsed": true
   },
   "outputs": [],
   "source": [
    "#Let's comine all the above into a definition.\n",
    "#Additionally, this definition will run for multiple sizes of a training set to give us a feel\n",
    "#for how the forest would work on the full set.\n",
    "#features=columns to use in fit\n",
    "#nTmax=the largest size of a used training set (>1000)\n",
    "#deltanT= size of steps from min training set size (1000) to nTmax\n",
    "#nCV=the size of the CV set\n",
    "#n_est=how many trees in the forest\n",
    "#max_n=how deep (how 'tall', 'branched', etc) each tree can become\n",
    "def FeatureChoice(features, nTmax, deltanT, nCV,n_est,max_n):\n",
    "    #In the following 3 lists, I'll keep track of the error for the training set, CV set, and size of training set.\n",
    "    #They will be useful later on.\n",
    "    trainAccuracy=[];\n",
    "    CVAccuracy=[];\n",
    "    Ntraining=[];\n",
    "    for x in range(100,nTmax,deltanT):\n",
    "        nT=x\n",
    "        train_data=trainingset[['Outcome']+features].sample(nT).values\n",
    "        forest=RandomForestClassifier(n_estimators=n_est,n_jobs=-1,max_depth=max_n)\n",
    "        forest=forest.fit(train_data[0::,1::],list(train_data[0::,0]))\n",
    "        output=forest.predict_proba(train_data[0::,1::])\n",
    "\n",
    "        outcomesused=sorted(pd.value_counts(train_data[:,0]).index.values)\n",
    "        elmToAdd=[];\n",
    "        for elm in list(range(0,len(Train['Outcome'].unique()))):\n",
    "            if elm not in outcomesused:\n",
    "                elmToAdd.append(elm)\n",
    "        output2=output\n",
    "        for elm in elmToAdd: #Insert 0 columns in for the missed outcomes\n",
    "            output2=np.insert(output2, [elm], [0],axis=1)\n",
    "\n",
    "        colNum=len(Train['Outcome'].unique())\n",
    "        row  = np.array(list(range(0, nT)))\n",
    "        col  = np.array(train_data[0:nT,0].astype(int))\n",
    "        data = np.array(list(np.ones(nT)))\n",
    "        test=sparse.coo_matrix((data,(row,col)), shape=(nT,colNum)).todense()\n",
    "\n",
    "        logPredict=np.log(output2[0:nT]);\n",
    "        #getting rid of the -inf and making them zero:\n",
    "        logPredict[logPredict == -np.inf] = -100\n",
    "        #picking out and summing the percent of correct choice:\n",
    "        error=np.sum(-np.multiply(logPredict,test))/nT\n",
    "        trainAccuracy.append(error)\n",
    "\n",
    "        CV_data=CVset[['Outcome']+features].sample(nCV).values\n",
    "        CVoutput=forest.predict_proba(CV_data[0::,1::])\n",
    "\n",
    "        output2=CVoutput\n",
    "        for elm in elmToAdd:\n",
    "            output2=np.insert(output2, [elm], [0],axis=1)\n",
    "\n",
    "        colNum=len(Train['Outcome'].unique())\n",
    "        row  = np.array(list(range(0, nCV)))\n",
    "        col  = np.array(CV_data[0:nCV,0].astype(int))\n",
    "        data = np.array(list(np.ones(nCV)))\n",
    "        test=sparse.coo_matrix((data,(row,col)), shape=(nCV,colNum)).todense()\n",
    "\n",
    "        logPredict=np.log(output2[0:nCV]);\n",
    "        logPredict[logPredict == -np.inf] = -100\n",
    "        error=np.sum(-np.multiply(logPredict,test))/nCV\n",
    "        CVAccuracy.append(error)\n",
    "        Ntraining.append(x)\n",
    "    return Ntraining,trainAccuracy,CVAccuracy"
   ]
  },
  {
   "cell_type": "code",
   "execution_count": 12,
   "metadata": {
    "collapsed": false
   },
   "outputs": [
    {
     "name": "stdout",
     "output_type": "stream",
     "text": [
      "Wall time: 6.04 s\n"
     ]
    },
    {
     "data": {
      "image/png": "[encoded data removed]",
      "text/plain": [
       "<matplotlib.figure.Figure at 0x238f2c8f5f8>"
      ]
     },
     "metadata": {},
     "output_type": "display_data"
    }
   ],
   "source": [
    "%%time \n",
    "#how long do these trainings take? Ask Jupyter using magic. I think it's actually called magic...\n",
    "features=['Month','Day','Hour'];\n",
    "trainSize, trainError, CVError=FeatureChoice(features, 10000, 1000, 1000,10,10)\n",
    "#We can plot what we did below\n",
    "plt.plot(trainSize,trainError,trainSize,CVError)"
   ]
  },
  {
   "cell_type": "code",
   "execution_count": null,
   "metadata": {
    "collapsed": true
   },
   "outputs": [],
   "source": [
    "#The above plot show error on the Y-axis (lower is better) and num of examples in training set on the X-axis.\n",
    "#Error for the training set is in blue\n",
    "#Error for CV set is in green\n",
    "#As we would like to see, as number of training examples increases, error in training set goes up\n",
    "#(less overfitting) and error in CV set goes down.\n",
    "#Where they are converging is about where the error for the test set will be found.\n",
    "#However, the CV error is still relatively high. Perhaps using more features will help?"
   ]
  },
  {
   "cell_type": "code",
   "execution_count": 13,
   "metadata": {
    "collapsed": false
   },
   "outputs": [
    {
     "name": "stdout",
     "output_type": "stream",
     "text": [
      "Wall time: 6.33 s\n"
     ]
    },
    {
     "data": {
      "image/png": "[encoded data removed]",
      "text/plain": [
       "<matplotlib.figure.Figure at 0x2388b384550>"
      ]
     },
     "metadata": {},
     "output_type": "display_data"
    }
   ],
   "source": [
    "%%time\n",
    "features=['Minute','Y_binned','Address2_2','Address3_2','X_binned','Hour','Year']\n",
    "trainSize, trainError, CVError=FeatureChoice(features, 10000, 1000, 1000,10,10)\n",
    "plt.plot(trainSize,trainError,trainSize,CVError)\n",
    "#Here we have a bit better final error for the CV set, but what if we manipulate number of trees or tree depth?"
   ]
  },
  {
   "cell_type": "code",
   "execution_count": 14,
   "metadata": {
    "collapsed": false
   },
   "outputs": [
    {
     "name": "stdout",
     "output_type": "stream",
     "text": [
      "Wall time: 8.54 s\n"
     ]
    },
    {
     "data": {
      "image/png": "[encoded data removed]",
      "text/plain": [
       "<matplotlib.figure.Figure at 0x238ee7fd400>"
      ]
     },
     "metadata": {},
     "output_type": "display_data"
    }
   ],
   "source": [
    "%%time\n",
    "features=['Minute','Y_binned','Address2_2','Address3_2','X_binned','Hour','Year']\n",
    "trainSize, trainError, CVError=FeatureChoice(features, 10000, 1000, 1000,100,10)\n",
    "plt.plot(trainSize,trainError,trainSize,CVError)\n",
    "#And with different numbers of trees (100 instead of 10)\n",
    "#More trees are better, but computationally more taxing."
   ]
  },
  {
   "cell_type": "code",
   "execution_count": 15,
   "metadata": {
    "collapsed": false
   },
   "outputs": [
    {
     "name": "stdout",
     "output_type": "stream",
     "text": [
      "Wall time: 6.47 s\n"
     ]
    },
    {
     "data": {
      "image/png": "[encoded data removed]",
      "text/plain": [
       "<matplotlib.figure.Figure at 0x2388b438b38>"
      ]
     },
     "metadata": {},
     "output_type": "display_data"
    }
   ],
   "source": [
    "%%time\n",
    "features=['Minute','Y_binned','Address2_2','Address3_2','X_binned','Hour','Year']\n",
    "trainSize, trainError, CVError=FeatureChoice(features, 10000, 1000, 1000,10,20)\n",
    "plt.plot(trainSize,trainError,trainSize,CVError)\n",
    "#If instead we keep tree size at 10 but increase the max depth each tree can grow to 20:"
   ]
  },
  {
   "cell_type": "code",
   "execution_count": null,
   "metadata": {
    "collapsed": true
   },
   "outputs": [],
   "source": [
    "#Above I set the max_depth of the trees to 20, and am getting overfitting.\n",
    "#The training error stays at 0 while the CV error stays quite large.\n",
    "#We need to change things to get the lines to converge faster."
   ]
  },
  {
   "cell_type": "code",
   "execution_count": 48,
   "metadata": {
    "collapsed": false
   },
   "outputs": [
    {
     "name": "stdout",
     "output_type": "stream",
     "text": [
      "Wall time: 35.8 s\n"
     ]
    },
    {
     "data": {
      "image/png": "[encoded data removed]",
      "text/plain": [
       "<matplotlib.figure.Figure at 0x2268cfd6780>"
      ]
     },
     "metadata": {},
     "output_type": "display_data"
    }
   ],
   "source": [
    "%%time\n",
    "features=['Minute','Y_binned','Address2_2','Address3_2','X_binned','Hour','Year']\n",
    "trainSize, trainError, CVError=FeatureChoice(features, 40000, 2000, 1000,100,15)\n",
    "plt.plot(trainSize,trainError,trainSize,CVError)"
   ]
  },
  {
   "cell_type": "code",
   "execution_count": null,
   "metadata": {
    "collapsed": true
   },
   "outputs": [],
   "source": [
    "#More trees help to keep it the overfitting down, but is more computationally intensive."
   ]
  },
  {
   "cell_type": "code",
   "execution_count": 51,
   "metadata": {
    "collapsed": false
   },
   "outputs": [
    {
     "name": "stdout",
     "output_type": "stream",
     "text": [
      "Wall time: 17.5 s\n"
     ]
    },
    {
     "data": {
      "image/png": "[encoded data removed]",
      "text/plain": [
       "<matplotlib.figure.Figure at 0x2268db15908>"
      ]
     },
     "metadata": {},
     "output_type": "display_data"
    }
   ],
   "source": [
    "%%time\n",
    "features=['Minute','Y_binned','Address2_2','Address3_2','X_binned','Hour','Year']\n",
    "trainSize, trainError, CVError=FeatureChoice(features, 40000, 2000, 1000,50,10)\n",
    "plt.plot(trainSize,trainError,trainSize,CVError)"
   ]
  },
  {
   "cell_type": "code",
   "execution_count": 52,
   "metadata": {
    "collapsed": false
   },
   "outputs": [
    {
     "name": "stdout",
     "output_type": "stream",
     "text": [
      "Wall time: 23.7 s\n"
     ]
    },
    {
     "data": {
      "image/png": "[encoded data removed]",
      "text/plain": [
       "<matplotlib.figure.Figure at 0x2268f3d81d0>"
      ]
     },
     "metadata": {},
     "output_type": "display_data"
    }
   ],
   "source": [
    "%%time\n",
    "features=['Minute','Y_binned','Address2_2','Address3_2','X_binned','Hour','Year']\n",
    "trainSize, trainError, CVError=FeatureChoice(features, 40000, 2000, 1000,100,10)\n",
    "plt.plot(trainSize,trainError,trainSize,CVError)"
   ]
  },
  {
   "cell_type": "code",
   "execution_count": 58,
   "metadata": {
    "collapsed": false
   },
   "outputs": [
    {
     "name": "stdout",
     "output_type": "stream",
     "text": [
      "Wall time: 1min 20s\n"
     ]
    },
    {
     "data": {
      "image/png": "[encoded data removed]",
      "text/plain": [
       "<matplotlib.figure.Figure at 0x2268c7a7cc0>"
      ]
     },
     "metadata": {},
     "output_type": "display_data"
    }
   ],
   "source": [
    "%%time\n",
    "features=['Minute','Y_binned','Address2_2','Address3_2','X_binned','Hour','Year']\n",
    "trainSize, trainError, CVError=FeatureChoice(features, 80000, 2000, 1000,100,10)\n",
    "plt.plot(trainSize,trainError,trainSize,CVError)"
   ]
  },
  {
   "cell_type": "code",
   "execution_count": 59,
   "metadata": {
    "collapsed": false
   },
   "outputs": [
    {
     "data": {
      "text/plain": [
       "2.3939434715962307"
      ]
     },
     "execution_count": 59,
     "metadata": {},
     "output_type": "execute_result"
    }
   ],
   "source": [
    "CVError[-1]"
   ]
  },
  {
   "cell_type": "code",
   "execution_count": null,
   "metadata": {
    "collapsed": true
   },
   "outputs": [],
   "source": [
    "#Now, I need to start working with the full set."
   ]
  },
  {
   "cell_type": "code",
   "execution_count": 16,
   "metadata": {
    "collapsed": true
   },
   "outputs": [],
   "source": [
    "n=len(Train);\n",
    "nTrain=int(n*.8)\n",
    "nCV=n-nTrain\n",
    "subTrain1=Train.sample(n)\n",
    "trainingset=subTrain1[0:nTrain]\n",
    "CVset=subTrain1[nTrain:]"
   ]
  },
  {
   "cell_type": "code",
   "execution_count": 18,
   "metadata": {
    "collapsed": false
   },
   "outputs": [
    {
     "name": "stdout",
     "output_type": "stream",
     "text": [
      "2.37553234169\n",
      "2.42482117443\n",
      "Wall time: 19.7 s\n"
     ]
    }
   ],
   "source": [
    "%%time\n",
    "#Let's see how big of a set we can train on:\n",
    "features=['Minute','Y_binned','Address2_2','Address3_2','X_binned','Hour','Year']\n",
    "nT=len(trainingset);\n",
    "nCV=len(CVset);\n",
    "\n",
    "train_data=trainingset[['Outcome']+features].sample(nT).values\n",
    "forest=RandomForestClassifier(n_estimators=15,n_jobs=-1, max_depth=10)\n",
    "forest=forest.fit(train_data[0::,1::],list(train_data[0::,0]))\n",
    "output=forest.predict_proba(train_data[0::,1::])\n",
    "\n",
    "outcomesused=sorted(pd.value_counts(train_data[:,0]).index.values)\n",
    "elmToAdd=[];\n",
    "for elm in list(range(0,len(Train['Outcome'].unique()))):\n",
    "    if elm not in outcomesused:\n",
    "        elmToAdd.append(elm)\n",
    "output2=output\n",
    "for elm in elmToAdd: #Insert 0 columns in for the missed outcomes\n",
    "    output2=np.insert(output2, [elm], [0],axis=1)\n",
    "\n",
    "colNum=len(Train['Outcome'].unique())\n",
    "row  = np.array(list(range(0, nT)))\n",
    "col  = np.array(train_data[0:nT,0].astype(int))\n",
    "data = np.array(list(np.ones(nT)))\n",
    "test=sparse.coo_matrix((data,(row,col)), shape=(nT,colNum)).todense()\n",
    "\n",
    "logPredict=np.log(output2[0:nT]);\n",
    "#getting rid of the -inf and making them zero:\n",
    "logPredict[logPredict == -np.inf] = -100\n",
    "#picking out and summing the percent of correct choice:\n",
    "errorTrain=np.sum(-np.multiply(logPredict,test))/nT\n",
    "print(errorTrain)\n",
    "\n",
    "CV_data=CVset[['Outcome']+features].sample(nCV).values\n",
    "CVoutput=forest.predict_proba(CV_data[0::,1::])\n",
    "\n",
    "output2=CVoutput\n",
    "for elm in elmToAdd:\n",
    "    output2=np.insert(output2, [elm], [0],axis=1)\n",
    "\n",
    "colNum=len(Train['Outcome'].unique())\n",
    "row  = np.array(list(range(0, nCV)))\n",
    "col  = np.array(CV_data[0:nCV,0].astype(int))\n",
    "data = np.array(list(np.ones(nCV)))\n",
    "test=sparse.coo_matrix((data,(row,col)), shape=(nCV,colNum)).todense()\n",
    "\n",
    "logPredict=np.log(output2[0:nCV]);\n",
    "logPredict[logPredict == -np.inf] = -100\n",
    "errorCV=np.sum(-np.multiply(logPredict,test))/nCV\n",
    "print(errorCV)"
   ]
  },
  {
   "cell_type": "code",
   "execution_count": null,
   "metadata": {
    "collapsed": true
   },
   "outputs": [],
   "source": [
    "#Number of trees was chosen based on amount of memory in computer.\n",
    "#If I find a way to batch my data, I will up number of trees."
   ]
  },
  {
   "cell_type": "code",
   "execution_count": 19,
   "metadata": {
    "collapsed": false
   },
   "outputs": [
    {
     "data": {
      "image/png": "[encoded data removed]",
      "text/plain": [
       "<matplotlib.figure.Figure at 0x238f43b1e48>"
      ]
     },
     "metadata": {},
     "output_type": "display_data"
    }
   ],
   "source": [
    "#And, we can see how important each feature is to the learning algorithm. \n",
    "horizontal=[]\n",
    "for x in range(0,len(features)):\n",
    "    horizontal.append(x);\n",
    "importance=forest.feature_importances_;\n",
    "plt.figure(1)\n",
    "h = plt.bar(horizontal, importance, label=features);\n",
    "plt.subplots_adjust(bottom=0.3);\n",
    "xticks_pos = [0.65*patch.get_width() + patch.get_xy()[0] for patch in h];\n",
    "plt.xticks(xticks_pos, features,  ha='right', rotation=45);"
   ]
  },
  {
   "cell_type": "code",
   "execution_count": 20,
   "metadata": {
    "collapsed": false
   },
   "outputs": [],
   "source": [
    "#Now it's time to use the forest on the test set:\n",
    "#This set has also been cleaned previously. \n",
    "Test=pd.read_csv('TestNum.csv', header=0)"
   ]
  },
  {
   "cell_type": "code",
   "execution_count": 21,
   "metadata": {
    "collapsed": false
   },
   "outputs": [
    {
     "data": {
      "text/html": [
       "<div>\n",
       "<table border=\"1\" class=\"dataframe\">\n",
       "  <thead>\n",
       "    <tr style=\"text-align: right;\">\n",
       "      <th></th>\n",
       "      <th>Id</th>\n",
       "      <th>Weekday</th>\n",
       "      <th>Address3_2</th>\n",
       "      <th>Address2_2</th>\n",
       "      <th>Year</th>\n",
       "      <th>Month</th>\n",
       "      <th>Day</th>\n",
       "      <th>Hour</th>\n",
       "      <th>Minute</th>\n",
       "      <th>X_binned</th>\n",
       "      <th>Y_binned</th>\n",
       "    </tr>\n",
       "  </thead>\n",
       "  <tbody>\n",
       "    <tr>\n",
       "      <th>0</th>\n",
       "      <td>0</td>\n",
       "      <td>6</td>\n",
       "      <td>100</td>\n",
       "      <td>16</td>\n",
       "      <td>2015</td>\n",
       "      <td>5</td>\n",
       "      <td>10</td>\n",
       "      <td>23</td>\n",
       "      <td>59</td>\n",
       "      <td>7</td>\n",
       "      <td>3.0</td>\n",
       "    </tr>\n",
       "    <tr>\n",
       "      <th>1</th>\n",
       "      <td>1</td>\n",
       "      <td>6</td>\n",
       "      <td>100</td>\n",
       "      <td>100</td>\n",
       "      <td>2015</td>\n",
       "      <td>5</td>\n",
       "      <td>10</td>\n",
       "      <td>23</td>\n",
       "      <td>51</td>\n",
       "      <td>7</td>\n",
       "      <td>3.0</td>\n",
       "    </tr>\n",
       "    <tr>\n",
       "      <th>2</th>\n",
       "      <td>2</td>\n",
       "      <td>6</td>\n",
       "      <td>100</td>\n",
       "      <td>16</td>\n",
       "      <td>2015</td>\n",
       "      <td>5</td>\n",
       "      <td>10</td>\n",
       "      <td>23</td>\n",
       "      <td>50</td>\n",
       "      <td>6</td>\n",
       "      <td>8.0</td>\n",
       "    </tr>\n",
       "    <tr>\n",
       "      <th>3</th>\n",
       "      <td>3</td>\n",
       "      <td>6</td>\n",
       "      <td>0</td>\n",
       "      <td>100</td>\n",
       "      <td>2015</td>\n",
       "      <td>5</td>\n",
       "      <td>10</td>\n",
       "      <td>23</td>\n",
       "      <td>45</td>\n",
       "      <td>5</td>\n",
       "      <td>2.0</td>\n",
       "    </tr>\n",
       "    <tr>\n",
       "      <th>4</th>\n",
       "      <td>4</td>\n",
       "      <td>6</td>\n",
       "      <td>0</td>\n",
       "      <td>100</td>\n",
       "      <td>2015</td>\n",
       "      <td>5</td>\n",
       "      <td>10</td>\n",
       "      <td>23</td>\n",
       "      <td>45</td>\n",
       "      <td>5</td>\n",
       "      <td>2.0</td>\n",
       "    </tr>\n",
       "  </tbody>\n",
       "</table>\n",
       "</div>"
      ],
      "text/plain": [
       "   Id  Weekday  Address3_2  Address2_2  Year  Month  Day  Hour  Minute  \\\n",
       "0   0        6         100          16  2015      5   10    23      59   \n",
       "1   1        6         100         100  2015      5   10    23      51   \n",
       "2   2        6         100          16  2015      5   10    23      50   \n",
       "3   3        6           0         100  2015      5   10    23      45   \n",
       "4   4        6           0         100  2015      5   10    23      45   \n",
       "\n",
       "   X_binned  Y_binned  \n",
       "0         7       3.0  \n",
       "1         7       3.0  \n",
       "2         6       8.0  \n",
       "3         5       2.0  \n",
       "4         5       2.0  "
      ]
     },
     "execution_count": 21,
     "metadata": {},
     "output_type": "execute_result"
    }
   ],
   "source": [
    "Test.head()"
   ]
  },
  {
   "cell_type": "code",
   "execution_count": 22,
   "metadata": {
    "collapsed": false
   },
   "outputs": [
    {
     "name": "stdout",
     "output_type": "stream",
     "text": [
      "Wall time: 10.4 s\n"
     ]
    }
   ],
   "source": [
    "%%time\n",
    "features=['Month','Day','Hour','Minute','Year','Address3_2','Address2_2']\n",
    "nTest=len(Test);\n",
    "Test_data=Test[features].values\n",
    "Testoutput=forest.predict_proba(Test_data[0::,0::])"
   ]
  },
  {
   "cell_type": "code",
   "execution_count": 23,
   "metadata": {
    "collapsed": true
   },
   "outputs": [],
   "source": [
    "#But, the outcomes are currently just numbers, need to realign with categories.\n",
    "#These were taken from the cleaning notebook that made the files numbers.\n",
    "CategoriesForTest=['LARCENY/THEFT', 'OTHER OFFENSES', 'NON-CRIMINAL', 'ASSAULT',\n",
    "       'DRUG/NARCOTIC', 'VEHICLE THEFT', 'VANDALISM', 'WARRANTS',\n",
    "       'BURGLARY', 'SUSPICIOUS OCC', 'MISSING PERSON', 'ROBBERY', 'FRAUD',\n",
    "       'FORGERY/COUNTERFEITING', 'SECONDARY CODES', 'WEAPON LAWS',\n",
    "       'PROSTITUTION', 'TRESPASS', 'STOLEN PROPERTY',\n",
    "       'SEX OFFENSES FORCIBLE', 'DISORDERLY CONDUCT', 'DRUNKENNESS',\n",
    "       'RECOVERED VEHICLE', 'KIDNAPPING', 'DRIVING UNDER THE INFLUENCE',\n",
    "       'RUNAWAY', 'LIQUOR LAWS', 'ARSON', 'LOITERING', 'EMBEZZLEMENT',\n",
    "       'SUICIDE', 'FAMILY OFFENSES', 'BAD CHECKS', 'BRIBERY', 'EXTORTION',\n",
    "       'SEX OFFENSES NON FORCIBLE', 'GAMBLING', 'PORNOGRAPHY/OBSCENE MAT',\n",
    "       'TREA'];"
   ]
  },
  {
   "cell_type": "code",
   "execution_count": 24,
   "metadata": {
    "collapsed": true
   },
   "outputs": [],
   "source": [
    "#Now make into new panda dataframe for easier manipulation and output\n",
    "TestForestPanda = pd.DataFrame(Testoutput,columns=CategoriesForTest)"
   ]
  },
  {
   "cell_type": "code",
   "execution_count": 25,
   "metadata": {
    "collapsed": false
   },
   "outputs": [
    {
     "data": {
      "text/html": [
       "<div>\n",
       "<table border=\"1\" class=\"dataframe\">\n",
       "  <thead>\n",
       "    <tr style=\"text-align: right;\">\n",
       "      <th></th>\n",
       "      <th>LARCENY/THEFT</th>\n",
       "      <th>OTHER OFFENSES</th>\n",
       "      <th>NON-CRIMINAL</th>\n",
       "      <th>ASSAULT</th>\n",
       "      <th>DRUG/NARCOTIC</th>\n",
       "      <th>VEHICLE THEFT</th>\n",
       "      <th>VANDALISM</th>\n",
       "      <th>WARRANTS</th>\n",
       "      <th>BURGLARY</th>\n",
       "      <th>SUSPICIOUS OCC</th>\n",
       "      <th>...</th>\n",
       "      <th>EMBEZZLEMENT</th>\n",
       "      <th>SUICIDE</th>\n",
       "      <th>FAMILY OFFENSES</th>\n",
       "      <th>BAD CHECKS</th>\n",
       "      <th>BRIBERY</th>\n",
       "      <th>EXTORTION</th>\n",
       "      <th>SEX OFFENSES NON FORCIBLE</th>\n",
       "      <th>GAMBLING</th>\n",
       "      <th>PORNOGRAPHY/OBSCENE MAT</th>\n",
       "      <th>TREA</th>\n",
       "    </tr>\n",
       "  </thead>\n",
       "  <tbody>\n",
       "    <tr>\n",
       "      <th>0</th>\n",
       "      <td>0.306812</td>\n",
       "      <td>0.198553</td>\n",
       "      <td>0.046178</td>\n",
       "      <td>0.059922</td>\n",
       "      <td>0.048344</td>\n",
       "      <td>0.103340</td>\n",
       "      <td>0.026305</td>\n",
       "      <td>0.055276</td>\n",
       "      <td>0.018982</td>\n",
       "      <td>0.017351</td>\n",
       "      <td>...</td>\n",
       "      <td>0.000013</td>\n",
       "      <td>0.000337</td>\n",
       "      <td>0.000000</td>\n",
       "      <td>0.000025</td>\n",
       "      <td>0.0</td>\n",
       "      <td>0.000000</td>\n",
       "      <td>0.000000</td>\n",
       "      <td>0.000256</td>\n",
       "      <td>0.0</td>\n",
       "      <td>0.0</td>\n",
       "    </tr>\n",
       "    <tr>\n",
       "      <th>1</th>\n",
       "      <td>0.306812</td>\n",
       "      <td>0.198553</td>\n",
       "      <td>0.046178</td>\n",
       "      <td>0.059922</td>\n",
       "      <td>0.048344</td>\n",
       "      <td>0.103340</td>\n",
       "      <td>0.026305</td>\n",
       "      <td>0.055276</td>\n",
       "      <td>0.018982</td>\n",
       "      <td>0.017351</td>\n",
       "      <td>...</td>\n",
       "      <td>0.000013</td>\n",
       "      <td>0.000337</td>\n",
       "      <td>0.000000</td>\n",
       "      <td>0.000025</td>\n",
       "      <td>0.0</td>\n",
       "      <td>0.000000</td>\n",
       "      <td>0.000000</td>\n",
       "      <td>0.000256</td>\n",
       "      <td>0.0</td>\n",
       "      <td>0.0</td>\n",
       "    </tr>\n",
       "    <tr>\n",
       "      <th>2</th>\n",
       "      <td>0.306812</td>\n",
       "      <td>0.198553</td>\n",
       "      <td>0.046178</td>\n",
       "      <td>0.059922</td>\n",
       "      <td>0.048344</td>\n",
       "      <td>0.103340</td>\n",
       "      <td>0.026305</td>\n",
       "      <td>0.055276</td>\n",
       "      <td>0.018982</td>\n",
       "      <td>0.017351</td>\n",
       "      <td>...</td>\n",
       "      <td>0.000013</td>\n",
       "      <td>0.000337</td>\n",
       "      <td>0.000000</td>\n",
       "      <td>0.000025</td>\n",
       "      <td>0.0</td>\n",
       "      <td>0.000000</td>\n",
       "      <td>0.000000</td>\n",
       "      <td>0.000256</td>\n",
       "      <td>0.0</td>\n",
       "      <td>0.0</td>\n",
       "    </tr>\n",
       "    <tr>\n",
       "      <th>3</th>\n",
       "      <td>0.121906</td>\n",
       "      <td>0.231891</td>\n",
       "      <td>0.105822</td>\n",
       "      <td>0.057315</td>\n",
       "      <td>0.040580</td>\n",
       "      <td>0.141538</td>\n",
       "      <td>0.028817</td>\n",
       "      <td>0.055716</td>\n",
       "      <td>0.005534</td>\n",
       "      <td>0.081572</td>\n",
       "      <td>...</td>\n",
       "      <td>0.000285</td>\n",
       "      <td>0.000026</td>\n",
       "      <td>0.000018</td>\n",
       "      <td>0.000129</td>\n",
       "      <td>0.0</td>\n",
       "      <td>0.000092</td>\n",
       "      <td>0.000037</td>\n",
       "      <td>0.000149</td>\n",
       "      <td>0.0</td>\n",
       "      <td>0.0</td>\n",
       "    </tr>\n",
       "    <tr>\n",
       "      <th>4</th>\n",
       "      <td>0.121906</td>\n",
       "      <td>0.231891</td>\n",
       "      <td>0.105822</td>\n",
       "      <td>0.057315</td>\n",
       "      <td>0.040580</td>\n",
       "      <td>0.141538</td>\n",
       "      <td>0.028817</td>\n",
       "      <td>0.055716</td>\n",
       "      <td>0.005534</td>\n",
       "      <td>0.081572</td>\n",
       "      <td>...</td>\n",
       "      <td>0.000285</td>\n",
       "      <td>0.000026</td>\n",
       "      <td>0.000018</td>\n",
       "      <td>0.000129</td>\n",
       "      <td>0.0</td>\n",
       "      <td>0.000092</td>\n",
       "      <td>0.000037</td>\n",
       "      <td>0.000149</td>\n",
       "      <td>0.0</td>\n",
       "      <td>0.0</td>\n",
       "    </tr>\n",
       "  </tbody>\n",
       "</table>\n",
       "<p>5 rows × 39 columns</p>\n",
       "</div>"
      ],
      "text/plain": [
       "   LARCENY/THEFT  OTHER OFFENSES  NON-CRIMINAL   ASSAULT  DRUG/NARCOTIC  \\\n",
       "0       0.306812        0.198553      0.046178  0.059922       0.048344   \n",
       "1       0.306812        0.198553      0.046178  0.059922       0.048344   \n",
       "2       0.306812        0.198553      0.046178  0.059922       0.048344   \n",
       "3       0.121906        0.231891      0.105822  0.057315       0.040580   \n",
       "4       0.121906        0.231891      0.105822  0.057315       0.040580   \n",
       "\n",
       "   VEHICLE THEFT  VANDALISM  WARRANTS  BURGLARY  SUSPICIOUS OCC  ...   \\\n",
       "0       0.103340   0.026305  0.055276  0.018982        0.017351  ...    \n",
       "1       0.103340   0.026305  0.055276  0.018982        0.017351  ...    \n",
       "2       0.103340   0.026305  0.055276  0.018982        0.017351  ...    \n",
       "3       0.141538   0.028817  0.055716  0.005534        0.081572  ...    \n",
       "4       0.141538   0.028817  0.055716  0.005534        0.081572  ...    \n",
       "\n",
       "   EMBEZZLEMENT   SUICIDE  FAMILY OFFENSES  BAD CHECKS  BRIBERY  EXTORTION  \\\n",
       "0      0.000013  0.000337         0.000000    0.000025      0.0   0.000000   \n",
       "1      0.000013  0.000337         0.000000    0.000025      0.0   0.000000   \n",
       "2      0.000013  0.000337         0.000000    0.000025      0.0   0.000000   \n",
       "3      0.000285  0.000026         0.000018    0.000129      0.0   0.000092   \n",
       "4      0.000285  0.000026         0.000018    0.000129      0.0   0.000092   \n",
       "\n",
       "   SEX OFFENSES NON FORCIBLE  GAMBLING  PORNOGRAPHY/OBSCENE MAT  TREA  \n",
       "0                   0.000000  0.000256                      0.0   0.0  \n",
       "1                   0.000000  0.000256                      0.0   0.0  \n",
       "2                   0.000000  0.000256                      0.0   0.0  \n",
       "3                   0.000037  0.000149                      0.0   0.0  \n",
       "4                   0.000037  0.000149                      0.0   0.0  \n",
       "\n",
       "[5 rows x 39 columns]"
      ]
     },
     "execution_count": 25,
     "metadata": {},
     "output_type": "execute_result"
    }
   ],
   "source": [
    "TestForestPanda.head()"
   ]
  },
  {
   "cell_type": "code",
   "execution_count": 26,
   "metadata": {
    "collapsed": false
   },
   "outputs": [
    {
     "name": "stderr",
     "output_type": "stream",
     "text": [
      "C:\\Users\\KLK\\Anaconda3\\lib\\site-packages\\ipykernel\\__main__.py:2: FutureWarning: sort(....) is deprecated, use sort_index(.....)\n",
      "  from ipykernel import kernelapp as app\n"
     ]
    }
   ],
   "source": [
    "#Reorder columns alphabetically to match order Kaggle's desired order\n",
    "TestForestPanda.sort(columns=None, axis=1, ascending=True, inplace=True)"
   ]
  },
  {
   "cell_type": "code",
   "execution_count": 27,
   "metadata": {
    "collapsed": true
   },
   "outputs": [],
   "source": [
    "#Attach the id's\n",
    "TestForestPanda.insert(0, 'Id', Test['Id'].values, allow_duplicates=False)"
   ]
  },
  {
   "cell_type": "code",
   "execution_count": 28,
   "metadata": {
    "collapsed": false
   },
   "outputs": [
    {
     "data": {
      "text/html": [
       "<div>\n",
       "<table border=\"1\" class=\"dataframe\">\n",
       "  <thead>\n",
       "    <tr style=\"text-align: right;\">\n",
       "      <th></th>\n",
       "      <th>Id</th>\n",
       "      <th>ARSON</th>\n",
       "      <th>ASSAULT</th>\n",
       "      <th>BAD CHECKS</th>\n",
       "      <th>BRIBERY</th>\n",
       "      <th>BURGLARY</th>\n",
       "      <th>DISORDERLY CONDUCT</th>\n",
       "      <th>DRIVING UNDER THE INFLUENCE</th>\n",
       "      <th>DRUG/NARCOTIC</th>\n",
       "      <th>DRUNKENNESS</th>\n",
       "      <th>...</th>\n",
       "      <th>SEX OFFENSES NON FORCIBLE</th>\n",
       "      <th>STOLEN PROPERTY</th>\n",
       "      <th>SUICIDE</th>\n",
       "      <th>SUSPICIOUS OCC</th>\n",
       "      <th>TREA</th>\n",
       "      <th>TRESPASS</th>\n",
       "      <th>VANDALISM</th>\n",
       "      <th>VEHICLE THEFT</th>\n",
       "      <th>WARRANTS</th>\n",
       "      <th>WEAPON LAWS</th>\n",
       "    </tr>\n",
       "  </thead>\n",
       "  <tbody>\n",
       "    <tr>\n",
       "      <th>0</th>\n",
       "      <td>0</td>\n",
       "      <td>0.000479</td>\n",
       "      <td>0.059922</td>\n",
       "      <td>0.000025</td>\n",
       "      <td>0.0</td>\n",
       "      <td>0.018982</td>\n",
       "      <td>0.021370</td>\n",
       "      <td>0.002855</td>\n",
       "      <td>0.048344</td>\n",
       "      <td>0.007522</td>\n",
       "      <td>...</td>\n",
       "      <td>0.000000</td>\n",
       "      <td>0.010522</td>\n",
       "      <td>0.000337</td>\n",
       "      <td>0.017351</td>\n",
       "      <td>0.0</td>\n",
       "      <td>0.009837</td>\n",
       "      <td>0.026305</td>\n",
       "      <td>0.103340</td>\n",
       "      <td>0.055276</td>\n",
       "      <td>0.007919</td>\n",
       "    </tr>\n",
       "    <tr>\n",
       "      <th>1</th>\n",
       "      <td>1</td>\n",
       "      <td>0.000479</td>\n",
       "      <td>0.059922</td>\n",
       "      <td>0.000025</td>\n",
       "      <td>0.0</td>\n",
       "      <td>0.018982</td>\n",
       "      <td>0.021370</td>\n",
       "      <td>0.002855</td>\n",
       "      <td>0.048344</td>\n",
       "      <td>0.007522</td>\n",
       "      <td>...</td>\n",
       "      <td>0.000000</td>\n",
       "      <td>0.010522</td>\n",
       "      <td>0.000337</td>\n",
       "      <td>0.017351</td>\n",
       "      <td>0.0</td>\n",
       "      <td>0.009837</td>\n",
       "      <td>0.026305</td>\n",
       "      <td>0.103340</td>\n",
       "      <td>0.055276</td>\n",
       "      <td>0.007919</td>\n",
       "    </tr>\n",
       "    <tr>\n",
       "      <th>2</th>\n",
       "      <td>2</td>\n",
       "      <td>0.000479</td>\n",
       "      <td>0.059922</td>\n",
       "      <td>0.000025</td>\n",
       "      <td>0.0</td>\n",
       "      <td>0.018982</td>\n",
       "      <td>0.021370</td>\n",
       "      <td>0.002855</td>\n",
       "      <td>0.048344</td>\n",
       "      <td>0.007522</td>\n",
       "      <td>...</td>\n",
       "      <td>0.000000</td>\n",
       "      <td>0.010522</td>\n",
       "      <td>0.000337</td>\n",
       "      <td>0.017351</td>\n",
       "      <td>0.0</td>\n",
       "      <td>0.009837</td>\n",
       "      <td>0.026305</td>\n",
       "      <td>0.103340</td>\n",
       "      <td>0.055276</td>\n",
       "      <td>0.007919</td>\n",
       "    </tr>\n",
       "    <tr>\n",
       "      <th>3</th>\n",
       "      <td>3</td>\n",
       "      <td>0.000107</td>\n",
       "      <td>0.057315</td>\n",
       "      <td>0.000129</td>\n",
       "      <td>0.0</td>\n",
       "      <td>0.005534</td>\n",
       "      <td>0.023996</td>\n",
       "      <td>0.007323</td>\n",
       "      <td>0.040580</td>\n",
       "      <td>0.009041</td>\n",
       "      <td>...</td>\n",
       "      <td>0.000037</td>\n",
       "      <td>0.010924</td>\n",
       "      <td>0.000026</td>\n",
       "      <td>0.081572</td>\n",
       "      <td>0.0</td>\n",
       "      <td>0.002607</td>\n",
       "      <td>0.028817</td>\n",
       "      <td>0.141538</td>\n",
       "      <td>0.055716</td>\n",
       "      <td>0.008279</td>\n",
       "    </tr>\n",
       "    <tr>\n",
       "      <th>4</th>\n",
       "      <td>4</td>\n",
       "      <td>0.000107</td>\n",
       "      <td>0.057315</td>\n",
       "      <td>0.000129</td>\n",
       "      <td>0.0</td>\n",
       "      <td>0.005534</td>\n",
       "      <td>0.023996</td>\n",
       "      <td>0.007323</td>\n",
       "      <td>0.040580</td>\n",
       "      <td>0.009041</td>\n",
       "      <td>...</td>\n",
       "      <td>0.000037</td>\n",
       "      <td>0.010924</td>\n",
       "      <td>0.000026</td>\n",
       "      <td>0.081572</td>\n",
       "      <td>0.0</td>\n",
       "      <td>0.002607</td>\n",
       "      <td>0.028817</td>\n",
       "      <td>0.141538</td>\n",
       "      <td>0.055716</td>\n",
       "      <td>0.008279</td>\n",
       "    </tr>\n",
       "  </tbody>\n",
       "</table>\n",
       "<p>5 rows × 40 columns</p>\n",
       "</div>"
      ],
      "text/plain": [
       "   Id     ARSON   ASSAULT  BAD CHECKS  BRIBERY  BURGLARY  DISORDERLY CONDUCT  \\\n",
       "0   0  0.000479  0.059922    0.000025      0.0  0.018982            0.021370   \n",
       "1   1  0.000479  0.059922    0.000025      0.0  0.018982            0.021370   \n",
       "2   2  0.000479  0.059922    0.000025      0.0  0.018982            0.021370   \n",
       "3   3  0.000107  0.057315    0.000129      0.0  0.005534            0.023996   \n",
       "4   4  0.000107  0.057315    0.000129      0.0  0.005534            0.023996   \n",
       "\n",
       "   DRIVING UNDER THE INFLUENCE  DRUG/NARCOTIC  DRUNKENNESS     ...       \\\n",
       "0                     0.002855       0.048344     0.007522     ...        \n",
       "1                     0.002855       0.048344     0.007522     ...        \n",
       "2                     0.002855       0.048344     0.007522     ...        \n",
       "3                     0.007323       0.040580     0.009041     ...        \n",
       "4                     0.007323       0.040580     0.009041     ...        \n",
       "\n",
       "   SEX OFFENSES NON FORCIBLE  STOLEN PROPERTY   SUICIDE  SUSPICIOUS OCC  TREA  \\\n",
       "0                   0.000000         0.010522  0.000337        0.017351   0.0   \n",
       "1                   0.000000         0.010522  0.000337        0.017351   0.0   \n",
       "2                   0.000000         0.010522  0.000337        0.017351   0.0   \n",
       "3                   0.000037         0.010924  0.000026        0.081572   0.0   \n",
       "4                   0.000037         0.010924  0.000026        0.081572   0.0   \n",
       "\n",
       "   TRESPASS  VANDALISM  VEHICLE THEFT  WARRANTS  WEAPON LAWS  \n",
       "0  0.009837   0.026305       0.103340  0.055276     0.007919  \n",
       "1  0.009837   0.026305       0.103340  0.055276     0.007919  \n",
       "2  0.009837   0.026305       0.103340  0.055276     0.007919  \n",
       "3  0.002607   0.028817       0.141538  0.055716     0.008279  \n",
       "4  0.002607   0.028817       0.141538  0.055716     0.008279  \n",
       "\n",
       "[5 rows x 40 columns]"
      ]
     },
     "execution_count": 28,
     "metadata": {},
     "output_type": "execute_result"
    }
   ],
   "source": [
    "TestForestPanda.head()"
   ]
  },
  {
   "cell_type": "code",
   "execution_count": 29,
   "metadata": {
    "collapsed": true
   },
   "outputs": [],
   "source": [
    "#And (finally!) write to csv:\n",
    "TestForestPanda.to_csv('TestForest.csv',header=True, index=False)"
   ]
  },
  {
   "cell_type": "code",
   "execution_count": null,
   "metadata": {
    "collapsed": true
   },
   "outputs": [],
   "source": [
    "#What kind of results am I getting? Well, for...\n",
    "#features=['Month','Day','Hour','Minute','Year','Address3_2','Address2_2']\n",
    "#Estimators=10, max_Depth=10\n",
    "# TrainError=2.43, CVError=2.48, TestError(Kaggle)=2.47"
   ]
  },
  {
   "cell_type": "code",
   "execution_count": null,
   "metadata": {
    "collapsed": true
   },
   "outputs": [],
   "source": []
  }
 ],
 "metadata": {
  "kernelspec": {
   "display_name": "Python 3",
   "language": "python",
   "name": "python3"
  },
  "language_info": {
   "codemirror_mode": {
    "name": "ipython",
    "version": 3
   },
   "file_extension": ".py",
   "mimetype": "text/x-python",
   "name": "python",
   "nbconvert_exporter": "python",
   "pygments_lexer": "ipython3",
   "version": "3.5.1"
  }
 },
 "nbformat": 4,
 "nbformat_minor": 0
}
